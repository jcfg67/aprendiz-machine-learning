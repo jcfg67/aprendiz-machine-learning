{
 "cells": [
  {
   "cell_type": "markdown",
   "metadata": {},
   "source": [
    "# Digits - Cross-validation"
   ]
  },
  {
   "cell_type": "markdown",
   "metadata": {},
   "source": [
    "### Import Libraries"
   ]
  },
  {
   "cell_type": "code",
   "execution_count": 1,
   "metadata": {},
   "outputs": [],
   "source": [
    "import numpy as np\n",
    "import matplotlib.pyplot as plt\n",
    "%matplotlib inline\n",
    "\n",
    "from sklearn.datasets import load_digits\n",
    "from sklearn.model_selection import train_test_split\n",
    "from sklearn.model_selection import cross_val_score\n",
    "from sklearn.model_selection import GridSearchCV\n",
    "from sklearn.neighbors import KNeighborsClassifier\n",
    "from sklearn.svm import SVC"
   ]
  },
  {
   "cell_type": "markdown",
   "metadata": {},
   "source": [
    "### Import Dataset"
   ]
  },
  {
   "cell_type": "code",
   "execution_count": 2,
   "metadata": {},
   "outputs": [],
   "source": [
    "digits = load_digits()\n",
    "X = digits.data\n",
    "y = digits.target"
   ]
  },
  {
   "cell_type": "markdown",
   "metadata": {},
   "source": [
    "## Train-Test Validation"
   ]
  },
  {
   "cell_type": "markdown",
   "metadata": {},
   "source": [
    "### Data Splitting"
   ]
  },
  {
   "cell_type": "code",
   "execution_count": 3,
   "metadata": {},
   "outputs": [],
   "source": [
    "X_train, X_test, y_train, y_test = train_test_split(\n",
    "    X, y, random_state=0)"
   ]
  },
  {
   "cell_type": "markdown",
   "metadata": {},
   "source": [
    "### Create Model"
   ]
  },
  {
   "cell_type": "code",
   "execution_count": 4,
   "metadata": {},
   "outputs": [],
   "source": [
    "model = KNeighborsClassifier(n_neighbors=1)"
   ]
  },
  {
   "cell_type": "markdown",
   "metadata": {},
   "source": [
    "### Train Model"
   ]
  },
  {
   "cell_type": "code",
   "execution_count": 5,
   "metadata": {},
   "outputs": [
    {
     "data": {
      "text/plain": [
       "KNeighborsClassifier(algorithm='auto', leaf_size=30, metric='minkowski',\n",
       "                     metric_params=None, n_jobs=None, n_neighbors=1, p=2,\n",
       "                     weights='uniform')"
      ]
     },
     "execution_count": 5,
     "metadata": {},
     "output_type": "execute_result"
    }
   ],
   "source": [
    "model.fit(X_train, y_train)"
   ]
  },
  {
   "cell_type": "markdown",
   "metadata": {},
   "source": [
    "### Validate Model"
   ]
  },
  {
   "cell_type": "code",
   "execution_count": 6,
   "metadata": {},
   "outputs": [
    {
     "data": {
      "text/plain": [
       "0.9911111111111112"
      ]
     },
     "execution_count": 6,
     "metadata": {},
     "output_type": "execute_result"
    }
   ],
   "source": [
    "model.score(X_test, y_test)"
   ]
  },
  {
   "cell_type": "markdown",
   "metadata": {},
   "source": [
    "## Threefold Validation"
   ]
  },
  {
   "cell_type": "markdown",
   "metadata": {},
   "source": [
    "### Data Splitting"
   ]
  },
  {
   "cell_type": "code",
   "execution_count": 7,
   "metadata": {},
   "outputs": [],
   "source": [
    "X_trainval, X_test, y_trainval, y_test = train_test_split(X, y, random_state=0)\n",
    "X_train, X_val, y_train, y_val = train_test_split(X_trainval, y_trainval, random_state=0)"
   ]
  },
  {
   "cell_type": "markdown",
   "metadata": {},
   "source": [
    "### Create & Train Model"
   ]
  },
  {
   "cell_type": "code",
   "execution_count": 8,
   "metadata": {},
   "outputs": [
    {
     "name": "stdout",
     "output_type": "stream",
     "text": [
      "best validation score:  0.9970326409495549\n",
      "best number of neighbors:  3\n"
     ]
    }
   ],
   "source": [
    "val_scores = []\n",
    "neighbors = np.arange(1, 15, 2)\n",
    "\n",
    "for i in neighbors:\n",
    "    knn = KNeighborsClassifier(n_neighbors=i)\n",
    "    knn.fit(X_train, y_train)\n",
    "    val_scores.append(knn.score(X_val, y_val))\n",
    "\n",
    "print(\"best validation score: \", np.max(val_scores))\n",
    "best_n_neighbors = neighbors[np.argmax(val_scores)]\n",
    "print(\"best number of neighbors: \", best_n_neighbors)"
   ]
  },
  {
   "cell_type": "markdown",
   "metadata": {},
   "source": [
    "### Retrain & Evaluate Model"
   ]
  },
  {
   "cell_type": "code",
   "execution_count": 9,
   "metadata": {},
   "outputs": [
    {
     "name": "stdout",
     "output_type": "stream",
     "text": [
      "test-set score:  0.9866666666666667\n"
     ]
    }
   ],
   "source": [
    "knn = KNeighborsClassifier(n_neighbors=best_n_neighbors)\n",
    "knn.fit(X_trainval, y_trainval)\n",
    "print(\"test-set score: \", knn.score(X_test, y_test))"
   ]
  },
  {
   "cell_type": "markdown",
   "metadata": {},
   "source": [
    "## Cross-Validation"
   ]
  },
  {
   "cell_type": "markdown",
   "metadata": {},
   "source": [
    "### Data Splitting"
   ]
  },
  {
   "cell_type": "code",
   "execution_count": 10,
   "metadata": {},
   "outputs": [],
   "source": [
    "X_train, X_test, y_train, y_test = train_test_split(X, y, random_state=0)"
   ]
  },
  {
   "cell_type": "markdown",
   "metadata": {},
   "source": [
    "### Cross Validation Score"
   ]
  },
  {
   "cell_type": "code",
   "execution_count": 11,
   "metadata": {},
   "outputs": [
    {
     "name": "stdout",
     "output_type": "stream",
     "text": [
      "best validation score:  0.9970326409495549\n",
      "best number of neighbors:  3\n"
     ]
    }
   ],
   "source": [
    "cross_val_scores = []\n",
    "neighbors = np.arange(1, 15, 2)\n",
    "\n",
    "for i in neighbors:\n",
    "    knn = KNeighborsClassifier(n_neighbors=i)\n",
    "    scores = cross_val_score(knn, X_train, y_train, cv=10)\n",
    "    cross_val_scores.append(np.mean(scores))\n",
    "\n",
    "print(\"best validation score: \", np.max(val_scores))\n",
    "best_n_neighbors = neighbors[np.argmax(val_scores)]\n",
    "print(\"best number of neighbors: \", best_n_neighbors)"
   ]
  },
  {
   "cell_type": "markdown",
   "metadata": {},
   "source": [
    "### Retrain Model"
   ]
  },
  {
   "cell_type": "code",
   "execution_count": 12,
   "metadata": {},
   "outputs": [
    {
     "name": "stdout",
     "output_type": "stream",
     "text": [
      "test-set score:  0.9866666666666667\n"
     ]
    }
   ],
   "source": [
    "knn = KNeighborsClassifier(n_neighbors=best_n_neighbors)\n",
    "knn.fit(X_trainval, y_trainval)\n",
    "print(\"test-set score: \", knn.score(X_test, y_test))"
   ]
  },
  {
   "cell_type": "markdown",
   "metadata": {},
   "source": [
    "## Grid Searches with Cross-Validation for K-Neighbors"
   ]
  },
  {
   "cell_type": "markdown",
   "metadata": {},
   "source": [
    "### Define Parameter Grid"
   ]
  },
  {
   "cell_type": "code",
   "execution_count": 13,
   "metadata": {},
   "outputs": [],
   "source": [
    "param_grid = {'n_neighbors': np.arange(1, 15, 2)}"
   ]
  },
  {
   "cell_type": "markdown",
   "metadata": {},
   "source": [
    "### Create, Train & Test Model GridSearchCV"
   ]
  },
  {
   "cell_type": "code",
   "execution_count": 14,
   "metadata": {},
   "outputs": [
    {
     "data": {
      "text/plain": [
       "GridSearchCV(cv=10, error_score='raise-deprecating',\n",
       "             estimator=KNeighborsClassifier(algorithm='auto', leaf_size=30,\n",
       "                                            metric='minkowski',\n",
       "                                            metric_params=None, n_jobs=None,\n",
       "                                            n_neighbors=5, p=2,\n",
       "                                            weights='uniform'),\n",
       "             iid='warn', n_jobs=None,\n",
       "             param_grid={'n_neighbors': array([ 1,  3,  5,  7,  9, 11, 13])},\n",
       "             pre_dispatch='2*n_jobs', refit=True, return_train_score=True,\n",
       "             scoring=None, verbose=0)"
      ]
     },
     "execution_count": 14,
     "metadata": {},
     "output_type": "execute_result"
    }
   ],
   "source": [
    "grid = GridSearchCV(KNeighborsClassifier(), param_grid=param_grid,\n",
    "                    return_train_score=True, cv=10)\n",
    "\n",
    "grid.fit(X_train, y_train)"
   ]
  },
  {
   "cell_type": "markdown",
   "metadata": {},
   "source": [
    "### Get Best Results"
   ]
  },
  {
   "cell_type": "code",
   "execution_count": 15,
   "metadata": {},
   "outputs": [
    {
     "data": {
      "text/plain": [
       "0.9873793615441723"
      ]
     },
     "execution_count": 15,
     "metadata": {},
     "output_type": "execute_result"
    }
   ],
   "source": [
    "grid.best_score_"
   ]
  },
  {
   "cell_type": "code",
   "execution_count": 16,
   "metadata": {},
   "outputs": [
    {
     "data": {
      "text/plain": [
       "{'n_neighbors': 1}"
      ]
     },
     "execution_count": 16,
     "metadata": {},
     "output_type": "execute_result"
    }
   ],
   "source": [
    "grid.best_params_"
   ]
  },
  {
   "cell_type": "code",
   "execution_count": 17,
   "metadata": {},
   "outputs": [
    {
     "data": {
      "text/plain": [
       "KNeighborsClassifier(algorithm='auto', leaf_size=30, metric='minkowski',\n",
       "                     metric_params=None, n_jobs=None, n_neighbors=1, p=2,\n",
       "                     weights='uniform')"
      ]
     },
     "execution_count": 17,
     "metadata": {},
     "output_type": "execute_result"
    }
   ],
   "source": [
    "grid.best_estimator_"
   ]
  },
  {
   "cell_type": "code",
   "execution_count": 18,
   "metadata": {},
   "outputs": [
    {
     "data": {
      "text/plain": [
       "1.0"
      ]
     },
     "execution_count": 18,
     "metadata": {},
     "output_type": "execute_result"
    }
   ],
   "source": [
    "grid.score(X_train, y_train)"
   ]
  },
  {
   "cell_type": "code",
   "execution_count": 19,
   "metadata": {},
   "outputs": [
    {
     "data": {
      "text/plain": [
       "0.9911111111111112"
      ]
     },
     "execution_count": 19,
     "metadata": {},
     "output_type": "execute_result"
    }
   ],
   "source": [
    "grid.score(X_test, y_test)"
   ]
  },
  {
   "cell_type": "markdown",
   "metadata": {},
   "source": [
    "### Visualize Results"
   ]
  },
  {
   "cell_type": "code",
   "execution_count": 20,
   "metadata": {},
   "outputs": [],
   "source": [
    "results = grid.cv_results_"
   ]
  },
  {
   "cell_type": "code",
   "execution_count": 21,
   "metadata": {},
   "outputs": [
    {
     "data": {
      "text/plain": [
       "<matplotlib.legend.Legend at 0x1a23c84b38>"
      ]
     },
     "execution_count": 21,
     "metadata": {},
     "output_type": "execute_result"
    },
    {
     "data": {
      "image/png": "[encoded data removed]",
      "text/plain": [
       "<Figure size 432x288 with 1 Axes>"
      ]
     },
     "metadata": {
      "needs_background": "light"
     },
     "output_type": "display_data"
    }
   ],
   "source": [
    "plt.plot(param_grid['n_neighbors'], results['mean_train_score'], \n",
    "         label=\"train\")\n",
    "plt.plot(param_grid['n_neighbors'], results['mean_test_score'], \n",
    "         label=\"test\")\n",
    "plt.legend()"
   ]
  },
  {
   "cell_type": "markdown",
   "metadata": {},
   "source": [
    "## Grid Searches with Cross Validation for SVC"
   ]
  },
  {
   "cell_type": "markdown",
   "metadata": {},
   "source": [
    "### Define Parameter Grid"
   ]
  },
  {
   "cell_type": "code",
   "execution_count": 22,
   "metadata": {},
   "outputs": [
    {
     "name": "stdout",
     "output_type": "stream",
     "text": [
      "{'C': array([  0.001,   0.01 ,   0.1  ,   1.   ,  10.   , 100.   ]), 'gamma': array([0.00001, 0.0001 , 0.001  , 0.01   , 0.1    ])}\n"
     ]
    }
   ],
   "source": [
    "param_grid = {'C': 10. ** np.arange(-3, 3),\n",
    "              'gamma' : 10. ** np.arange(-5, 0)}\n",
    "np.set_printoptions(suppress=True)\n",
    "print(param_grid)"
   ]
  },
  {
   "cell_type": "markdown",
   "metadata": {},
   "source": [
    "### Create & Fit Model GridSearchCV"
   ]
  },
  {
   "cell_type": "code",
   "execution_count": 23,
   "metadata": {},
   "outputs": [],
   "source": [
    "grid_search = GridSearchCV(SVC(), param_grid, verbose=3, cv=5)"
   ]
  },
  {
   "cell_type": "code",
   "execution_count": 24,
   "metadata": {},
   "outputs": [
    {
     "name": "stdout",
     "output_type": "stream",
     "text": [
      "Fitting 5 folds for each of 30 candidates, totalling 150 fits\n",
      "[CV] C=0.001, gamma=1e-05 ............................................\n"
     ]
    },
    {
     "name": "stderr",
     "output_type": "stream",
     "text": [
      "[Parallel(n_jobs=1)]: Using backend SequentialBackend with 1 concurrent workers.\n"
     ]
    },
    {
     "name": "stdout",
     "output_type": "stream",
     "text": [
      "[CV] ................ C=0.001, gamma=1e-05, score=0.106, total=   0.2s\n",
      "[CV] C=0.001, gamma=1e-05 ............................................\n"
     ]
    },
    {
     "name": "stderr",
     "output_type": "stream",
     "text": [
      "[Parallel(n_jobs=1)]: Done   1 out of   1 | elapsed:    0.2s remaining:    0.0s\n"
     ]
    },
    {
     "name": "stdout",
     "output_type": "stream",
     "text": [
      "[CV] ................ C=0.001, gamma=1e-05, score=0.107, total=   0.2s\n",
      "[CV] C=0.001, gamma=1e-05 ............................................\n"
     ]
    },
    {
     "name": "stderr",
     "output_type": "stream",
     "text": [
      "[Parallel(n_jobs=1)]: Done   2 out of   2 | elapsed:    0.4s remaining:    0.0s\n"
     ]
    },
    {
     "name": "stdout",
     "output_type": "stream",
     "text": [
      "[CV] ................ C=0.001, gamma=1e-05, score=0.107, total=   0.2s\n",
      "[CV] C=0.001, gamma=1e-05 ............................................\n",
      "[CV] ................ C=0.001, gamma=1e-05, score=0.105, total=   0.2s\n",
      "[CV] C=0.001, gamma=1e-05 ............................................\n",
      "[CV] ................ C=0.001, gamma=1e-05, score=0.106, total=   0.2s\n",
      "[CV] C=0.001, gamma=0.0001 ...........................................\n",
      "[CV] ............... C=0.001, gamma=0.0001, score=0.106, total=   0.2s\n",
      "[CV] C=0.001, gamma=0.0001 ...........................................\n",
      "[CV] ............... C=0.001, gamma=0.0001, score=0.107, total=   0.2s\n",
      "[CV] C=0.001, gamma=0.0001 ...........................................\n",
      "[CV] ............... C=0.001, gamma=0.0001, score=0.107, total=   0.2s\n",
      "[CV] C=0.001, gamma=0.0001 ...........................................\n",
      "[CV] ............... C=0.001, gamma=0.0001, score=0.105, total=   0.2s\n",
      "[CV] C=0.001, gamma=0.0001 ...........................................\n",
      "[CV] ............... C=0.001, gamma=0.0001, score=0.106, total=   0.2s\n",
      "[CV] C=0.001, gamma=0.001 ............................................\n",
      "[CV] ................ C=0.001, gamma=0.001, score=0.106, total=   0.2s\n",
      "[CV] C=0.001, gamma=0.001 ............................................\n",
      "[CV] ................ C=0.001, gamma=0.001, score=0.107, total=   0.2s\n",
      "[CV] C=0.001, gamma=0.001 ............................................\n",
      "[CV] ................ C=0.001, gamma=0.001, score=0.107, total=   0.2s\n",
      "[CV] C=0.001, gamma=0.001 ............................................\n",
      "[CV] ................ C=0.001, gamma=0.001, score=0.105, total=   0.2s\n",
      "[CV] C=0.001, gamma=0.001 ............................................\n",
      "[CV] ................ C=0.001, gamma=0.001, score=0.106, total=   0.2s\n",
      "[CV] C=0.001, gamma=0.01 .............................................\n",
      "[CV] ................. C=0.001, gamma=0.01, score=0.106, total=   0.2s\n",
      "[CV] C=0.001, gamma=0.01 .............................................\n",
      "[CV] ................. C=0.001, gamma=0.01, score=0.107, total=   0.2s\n",
      "[CV] C=0.001, gamma=0.01 .............................................\n",
      "[CV] ................. C=0.001, gamma=0.01, score=0.107, total=   0.2s\n",
      "[CV] C=0.001, gamma=0.01 .............................................\n",
      "[CV] ................. C=0.001, gamma=0.01, score=0.105, total=   0.3s\n",
      "[CV] C=0.001, gamma=0.01 .............................................\n",
      "[CV] ................. C=0.001, gamma=0.01, score=0.106, total=   0.3s\n",
      "[CV] C=0.001, gamma=0.1 ..............................................\n",
      "[CV] .................. C=0.001, gamma=0.1, score=0.106, total=   0.3s\n",
      "[CV] C=0.001, gamma=0.1 ..............................................\n",
      "[CV] .................. C=0.001, gamma=0.1, score=0.107, total=   0.2s\n",
      "[CV] C=0.001, gamma=0.1 ..............................................\n",
      "[CV] .................. C=0.001, gamma=0.1, score=0.107, total=   0.3s\n",
      "[CV] C=0.001, gamma=0.1 ..............................................\n",
      "[CV] .................. C=0.001, gamma=0.1, score=0.105, total=   0.2s\n",
      "[CV] C=0.001, gamma=0.1 ..............................................\n",
      "[CV] .................. C=0.001, gamma=0.1, score=0.106, total=   0.2s\n",
      "[CV] C=0.01, gamma=1e-05 .............................................\n",
      "[CV] ................. C=0.01, gamma=1e-05, score=0.106, total=   0.2s\n",
      "[CV] C=0.01, gamma=1e-05 .............................................\n",
      "[CV] ................. C=0.01, gamma=1e-05, score=0.107, total=   0.2s\n",
      "[CV] C=0.01, gamma=1e-05 .............................................\n",
      "[CV] ................. C=0.01, gamma=1e-05, score=0.107, total=   0.2s\n",
      "[CV] C=0.01, gamma=1e-05 .............................................\n",
      "[CV] ................. C=0.01, gamma=1e-05, score=0.105, total=   0.2s\n",
      "[CV] C=0.01, gamma=1e-05 .............................................\n",
      "[CV] ................. C=0.01, gamma=1e-05, score=0.106, total=   0.2s\n",
      "[CV] C=0.01, gamma=0.0001 ............................................\n",
      "[CV] ................ C=0.01, gamma=0.0001, score=0.106, total=   0.2s\n",
      "[CV] C=0.01, gamma=0.0001 ............................................\n",
      "[CV] ................ C=0.01, gamma=0.0001, score=0.107, total=   0.2s\n",
      "[CV] C=0.01, gamma=0.0001 ............................................\n",
      "[CV] ................ C=0.01, gamma=0.0001, score=0.107, total=   0.2s\n",
      "[CV] C=0.01, gamma=0.0001 ............................................\n",
      "[CV] ................ C=0.01, gamma=0.0001, score=0.105, total=   0.2s\n",
      "[CV] C=0.01, gamma=0.0001 ............................................\n",
      "[CV] ................ C=0.01, gamma=0.0001, score=0.106, total=   0.2s\n",
      "[CV] C=0.01, gamma=0.001 .............................................\n",
      "[CV] ................. C=0.01, gamma=0.001, score=0.106, total=   0.2s\n",
      "[CV] C=0.01, gamma=0.001 .............................................\n",
      "[CV] ................. C=0.01, gamma=0.001, score=0.107, total=   0.2s\n",
      "[CV] C=0.01, gamma=0.001 .............................................\n",
      "[CV] ................. C=0.01, gamma=0.001, score=0.107, total=   0.2s\n",
      "[CV] C=0.01, gamma=0.001 .............................................\n",
      "[CV] ................. C=0.01, gamma=0.001, score=0.105, total=   0.2s\n",
      "[CV] C=0.01, gamma=0.001 .............................................\n",
      "[CV] ................. C=0.01, gamma=0.001, score=0.106, total=   0.2s\n",
      "[CV] C=0.01, gamma=0.01 ..............................................\n",
      "[CV] .................. C=0.01, gamma=0.01, score=0.106, total=   0.2s\n",
      "[CV] C=0.01, gamma=0.01 ..............................................\n",
      "[CV] .................. C=0.01, gamma=0.01, score=0.107, total=   0.2s\n",
      "[CV] C=0.01, gamma=0.01 ..............................................\n",
      "[CV] .................. C=0.01, gamma=0.01, score=0.107, total=   0.2s\n",
      "[CV] C=0.01, gamma=0.01 ..............................................\n",
      "[CV] .................. C=0.01, gamma=0.01, score=0.105, total=   0.2s\n",
      "[CV] C=0.01, gamma=0.01 ..............................................\n",
      "[CV] .................. C=0.01, gamma=0.01, score=0.106, total=   0.2s\n",
      "[CV] C=0.01, gamma=0.1 ...............................................\n",
      "[CV] ................... C=0.01, gamma=0.1, score=0.106, total=   0.3s\n",
      "[CV] C=0.01, gamma=0.1 ...............................................\n",
      "[CV] ................... C=0.01, gamma=0.1, score=0.107, total=   0.3s\n",
      "[CV] C=0.01, gamma=0.1 ...............................................\n",
      "[CV] ................... C=0.01, gamma=0.1, score=0.107, total=   0.3s\n",
      "[CV] C=0.01, gamma=0.1 ...............................................\n",
      "[CV] ................... C=0.01, gamma=0.1, score=0.105, total=   0.2s\n",
      "[CV] C=0.01, gamma=0.1 ...............................................\n",
      "[CV] ................... C=0.01, gamma=0.1, score=0.106, total=   0.2s\n",
      "[CV] C=0.1, gamma=1e-05 ..............................................\n",
      "[CV] .................. C=0.1, gamma=1e-05, score=0.106, total=   0.2s\n",
      "[CV] C=0.1, gamma=1e-05 ..............................................\n",
      "[CV] .................. C=0.1, gamma=1e-05, score=0.107, total=   0.2s\n",
      "[CV] C=0.1, gamma=1e-05 ..............................................\n",
      "[CV] .................. C=0.1, gamma=1e-05, score=0.107, total=   0.2s\n",
      "[CV] C=0.1, gamma=1e-05 ..............................................\n",
      "[CV] .................. C=0.1, gamma=1e-05, score=0.105, total=   0.2s\n",
      "[CV] C=0.1, gamma=1e-05 ..............................................\n",
      "[CV] .................. C=0.1, gamma=1e-05, score=0.106, total=   0.2s\n",
      "[CV] C=0.1, gamma=0.0001 .............................................\n",
      "[CV] ................. C=0.1, gamma=0.0001, score=0.839, total=   0.2s\n",
      "[CV] C=0.1, gamma=0.0001 .............................................\n",
      "[CV] ................. C=0.1, gamma=0.0001, score=0.834, total=   0.2s\n",
      "[CV] C=0.1, gamma=0.0001 .............................................\n",
      "[CV] ................. C=0.1, gamma=0.0001, score=0.863, total=   0.2s\n",
      "[CV] C=0.1, gamma=0.0001 .............................................\n",
      "[CV] ................. C=0.1, gamma=0.0001, score=0.828, total=   0.2s\n",
      "[CV] C=0.1, gamma=0.0001 .............................................\n",
      "[CV] ................. C=0.1, gamma=0.0001, score=0.830, total=   0.2s\n",
      "[CV] C=0.1, gamma=0.001 ..............................................\n"
     ]
    },
    {
     "name": "stdout",
     "output_type": "stream",
     "text": [
      "[CV] .................. C=0.1, gamma=0.001, score=0.953, total=   0.1s\n",
      "[CV] C=0.1, gamma=0.001 ..............................................\n",
      "[CV] .................. C=0.1, gamma=0.001, score=0.974, total=   0.1s\n",
      "[CV] C=0.1, gamma=0.001 ..............................................\n",
      "[CV] .................. C=0.1, gamma=0.001, score=0.956, total=   0.1s\n",
      "[CV] C=0.1, gamma=0.001 ..............................................\n",
      "[CV] .................. C=0.1, gamma=0.001, score=0.951, total=   0.1s\n",
      "[CV] C=0.1, gamma=0.001 ..............................................\n",
      "[CV] .................. C=0.1, gamma=0.001, score=0.966, total=   0.1s\n",
      "[CV] C=0.1, gamma=0.01 ...............................................\n",
      "[CV] ................... C=0.1, gamma=0.01, score=0.106, total=   0.2s\n",
      "[CV] C=0.1, gamma=0.01 ...............................................\n",
      "[CV] ................... C=0.1, gamma=0.01, score=0.107, total=   0.2s\n",
      "[CV] C=0.1, gamma=0.01 ...............................................\n",
      "[CV] ................... C=0.1, gamma=0.01, score=0.107, total=   0.2s\n",
      "[CV] C=0.1, gamma=0.01 ...............................................\n",
      "[CV] ................... C=0.1, gamma=0.01, score=0.105, total=   0.2s\n",
      "[CV] C=0.1, gamma=0.01 ...............................................\n",
      "[CV] ................... C=0.1, gamma=0.01, score=0.106, total=   0.2s\n",
      "[CV] C=0.1, gamma=0.1 ................................................\n",
      "[CV] .................... C=0.1, gamma=0.1, score=0.106, total=   0.2s\n",
      "[CV] C=0.1, gamma=0.1 ................................................\n",
      "[CV] .................... C=0.1, gamma=0.1, score=0.107, total=   0.2s\n",
      "[CV] C=0.1, gamma=0.1 ................................................\n",
      "[CV] .................... C=0.1, gamma=0.1, score=0.107, total=   0.2s\n",
      "[CV] C=0.1, gamma=0.1 ................................................\n",
      "[CV] .................... C=0.1, gamma=0.1, score=0.105, total=   0.2s\n",
      "[CV] C=0.1, gamma=0.1 ................................................\n",
      "[CV] .................... C=0.1, gamma=0.1, score=0.106, total=   0.2s\n",
      "[CV] C=1.0, gamma=1e-05 ..............................................\n",
      "[CV] .................. C=1.0, gamma=1e-05, score=0.869, total=   0.2s\n",
      "[CV] C=1.0, gamma=1e-05 ..............................................\n",
      "[CV] .................. C=1.0, gamma=1e-05, score=0.860, total=   0.2s\n",
      "[CV] C=1.0, gamma=1e-05 ..............................................\n",
      "[CV] .................. C=1.0, gamma=1e-05, score=0.908, total=   0.2s\n",
      "[CV] C=1.0, gamma=1e-05 ..............................................\n",
      "[CV] .................. C=1.0, gamma=1e-05, score=0.873, total=   0.2s\n",
      "[CV] C=1.0, gamma=1e-05 ..............................................\n",
      "[CV] .................. C=1.0, gamma=1e-05, score=0.871, total=   0.2s\n",
      "[CV] C=1.0, gamma=0.0001 .............................................\n",
      "[CV] ................. C=1.0, gamma=0.0001, score=0.967, total=   0.1s\n",
      "[CV] C=1.0, gamma=0.0001 .............................................\n",
      "[CV] ................. C=1.0, gamma=0.0001, score=0.974, total=   0.1s\n",
      "[CV] C=1.0, gamma=0.0001 .............................................\n",
      "[CV] ................. C=1.0, gamma=0.0001, score=0.963, total=   0.1s\n",
      "[CV] C=1.0, gamma=0.0001 .............................................\n",
      "[CV] ................. C=1.0, gamma=0.0001, score=0.970, total=   0.1s\n",
      "[CV] C=1.0, gamma=0.0001 .............................................\n",
      "[CV] ................. C=1.0, gamma=0.0001, score=0.977, total=   0.1s\n",
      "[CV] C=1.0, gamma=0.001 ..............................................\n",
      "[CV] .................. C=1.0, gamma=0.001, score=0.993, total=   0.1s\n",
      "[CV] C=1.0, gamma=0.001 ..............................................\n",
      "[CV] .................. C=1.0, gamma=0.001, score=0.993, total=   0.1s\n",
      "[CV] C=1.0, gamma=0.001 ..............................................\n",
      "[CV] .................. C=1.0, gamma=0.001, score=0.989, total=   0.1s\n",
      "[CV] C=1.0, gamma=0.001 ..............................................\n",
      "[CV] .................. C=1.0, gamma=0.001, score=0.985, total=   0.1s\n",
      "[CV] C=1.0, gamma=0.001 ..............................................\n",
      "[CV] .................. C=1.0, gamma=0.001, score=0.996, total=   0.1s\n",
      "[CV] C=1.0, gamma=0.01 ...............................................\n",
      "[CV] ................... C=1.0, gamma=0.01, score=0.858, total=   0.2s\n",
      "[CV] C=1.0, gamma=0.01 ...............................................\n",
      "[CV] ................... C=1.0, gamma=0.01, score=0.815, total=   0.2s\n",
      "[CV] C=1.0, gamma=0.01 ...............................................\n",
      "[CV] ................... C=1.0, gamma=0.01, score=0.849, total=   0.2s\n",
      "[CV] C=1.0, gamma=0.01 ...............................................\n",
      "[CV] ................... C=1.0, gamma=0.01, score=0.787, total=   0.2s\n",
      "[CV] C=1.0, gamma=0.01 ...............................................\n",
      "[CV] ................... C=1.0, gamma=0.01, score=0.852, total=   0.2s\n",
      "[CV] C=1.0, gamma=0.1 ................................................\n",
      "[CV] .................... C=1.0, gamma=0.1, score=0.106, total=   0.3s\n",
      "[CV] C=1.0, gamma=0.1 ................................................\n",
      "[CV] .................... C=1.0, gamma=0.1, score=0.111, total=   0.3s\n",
      "[CV] C=1.0, gamma=0.1 ................................................\n",
      "[CV] .................... C=1.0, gamma=0.1, score=0.107, total=   0.3s\n",
      "[CV] C=1.0, gamma=0.1 ................................................\n",
      "[CV] .................... C=1.0, gamma=0.1, score=0.109, total=   0.3s\n",
      "[CV] C=1.0, gamma=0.1 ................................................\n",
      "[CV] .................... C=1.0, gamma=0.1, score=0.106, total=   0.3s\n",
      "[CV] C=10.0, gamma=1e-05 .............................................\n",
      "[CV] ................. C=10.0, gamma=1e-05, score=0.967, total=   0.1s\n",
      "[CV] C=10.0, gamma=1e-05 .............................................\n",
      "[CV] ................. C=10.0, gamma=1e-05, score=0.970, total=   0.1s\n",
      "[CV] C=10.0, gamma=1e-05 .............................................\n",
      "[CV] ................. C=10.0, gamma=1e-05, score=0.963, total=   0.1s\n",
      "[CV] C=10.0, gamma=1e-05 .............................................\n",
      "[CV] ................. C=10.0, gamma=1e-05, score=0.974, total=   0.1s\n",
      "[CV] C=10.0, gamma=1e-05 .............................................\n",
      "[CV] ................. C=10.0, gamma=1e-05, score=0.973, total=   0.1s\n",
      "[CV] C=10.0, gamma=0.0001 ............................................\n",
      "[CV] ................ C=10.0, gamma=0.0001, score=0.985, total=   0.0s\n",
      "[CV] C=10.0, gamma=0.0001 ............................................\n",
      "[CV] ................ C=10.0, gamma=0.0001, score=0.993, total=   0.0s\n",
      "[CV] C=10.0, gamma=0.0001 ............................................\n",
      "[CV] ................ C=10.0, gamma=0.0001, score=0.982, total=   0.0s\n",
      "[CV] C=10.0, gamma=0.0001 ............................................\n",
      "[CV] ................ C=10.0, gamma=0.0001, score=0.981, total=   0.0s\n",
      "[CV] C=10.0, gamma=0.0001 ............................................\n",
      "[CV] ................ C=10.0, gamma=0.0001, score=0.996, total=   0.0s\n",
      "[CV] C=10.0, gamma=0.001 .............................................\n",
      "[CV] ................. C=10.0, gamma=0.001, score=0.989, total=   0.1s\n",
      "[CV] C=10.0, gamma=0.001 .............................................\n",
      "[CV] ................. C=10.0, gamma=0.001, score=0.993, total=   0.1s\n",
      "[CV] C=10.0, gamma=0.001 .............................................\n",
      "[CV] ................. C=10.0, gamma=0.001, score=0.993, total=   0.1s\n",
      "[CV] C=10.0, gamma=0.001 .............................................\n",
      "[CV] ................. C=10.0, gamma=0.001, score=0.989, total=   0.1s\n",
      "[CV] C=10.0, gamma=0.001 .............................................\n",
      "[CV] ................. C=10.0, gamma=0.001, score=0.996, total=   0.1s\n",
      "[CV] C=10.0, gamma=0.01 ..............................................\n",
      "[CV] .................. C=10.0, gamma=0.01, score=0.869, total=   0.2s\n",
      "[CV] C=10.0, gamma=0.01 ..............................................\n",
      "[CV] .................. C=10.0, gamma=0.01, score=0.823, total=   0.2s\n",
      "[CV] C=10.0, gamma=0.01 ..............................................\n",
      "[CV] .................. C=10.0, gamma=0.01, score=0.860, total=   0.2s\n",
      "[CV] C=10.0, gamma=0.01 ..............................................\n"
     ]
    },
    {
     "name": "stdout",
     "output_type": "stream",
     "text": [
      "[CV] .................. C=10.0, gamma=0.01, score=0.805, total=   0.2s\n",
      "[CV] C=10.0, gamma=0.01 ..............................................\n",
      "[CV] .................. C=10.0, gamma=0.01, score=0.860, total=   0.2s\n",
      "[CV] C=10.0, gamma=0.1 ...............................................\n",
      "[CV] ................... C=10.0, gamma=0.1, score=0.106, total=   0.3s\n",
      "[CV] C=10.0, gamma=0.1 ...............................................\n",
      "[CV] ................... C=10.0, gamma=0.1, score=0.111, total=   0.3s\n",
      "[CV] C=10.0, gamma=0.1 ...............................................\n",
      "[CV] ................... C=10.0, gamma=0.1, score=0.107, total=   0.3s\n",
      "[CV] C=10.0, gamma=0.1 ...............................................\n",
      "[CV] ................... C=10.0, gamma=0.1, score=0.109, total=   0.3s\n",
      "[CV] C=10.0, gamma=0.1 ...............................................\n",
      "[CV] ................... C=10.0, gamma=0.1, score=0.106, total=   0.3s\n",
      "[CV] C=100.0, gamma=1e-05 ............................................\n",
      "[CV] ................ C=100.0, gamma=1e-05, score=0.982, total=   0.0s\n",
      "[CV] C=100.0, gamma=1e-05 ............................................\n",
      "[CV] ................ C=100.0, gamma=1e-05, score=0.989, total=   0.0s\n",
      "[CV] C=100.0, gamma=1e-05 ............................................\n",
      "[CV] ................ C=100.0, gamma=1e-05, score=0.978, total=   0.0s\n",
      "[CV] C=100.0, gamma=1e-05 ............................................\n",
      "[CV] ................ C=100.0, gamma=1e-05, score=0.981, total=   0.0s\n",
      "[CV] C=100.0, gamma=1e-05 ............................................\n",
      "[CV] ................ C=100.0, gamma=1e-05, score=0.996, total=   0.0s\n",
      "[CV] C=100.0, gamma=0.0001 ...........................................\n",
      "[CV] ............... C=100.0, gamma=0.0001, score=0.985, total=   0.0s\n",
      "[CV] C=100.0, gamma=0.0001 ...........................................\n",
      "[CV] ............... C=100.0, gamma=0.0001, score=0.989, total=   0.0s\n",
      "[CV] C=100.0, gamma=0.0001 ...........................................\n",
      "[CV] ............... C=100.0, gamma=0.0001, score=0.978, total=   0.0s\n",
      "[CV] C=100.0, gamma=0.0001 ...........................................\n",
      "[CV] ............... C=100.0, gamma=0.0001, score=0.985, total=   0.0s\n",
      "[CV] C=100.0, gamma=0.0001 ...........................................\n",
      "[CV] ............... C=100.0, gamma=0.0001, score=1.000, total=   0.0s\n",
      "[CV] C=100.0, gamma=0.001 ............................................\n",
      "[CV] ................ C=100.0, gamma=0.001, score=0.989, total=   0.1s\n",
      "[CV] C=100.0, gamma=0.001 ............................................\n",
      "[CV] ................ C=100.0, gamma=0.001, score=0.993, total=   0.1s\n",
      "[CV] C=100.0, gamma=0.001 ............................................\n",
      "[CV] ................ C=100.0, gamma=0.001, score=0.993, total=   0.1s\n",
      "[CV] C=100.0, gamma=0.001 ............................................\n",
      "[CV] ................ C=100.0, gamma=0.001, score=0.989, total=   0.1s\n",
      "[CV] C=100.0, gamma=0.001 ............................................\n",
      "[CV] ................ C=100.0, gamma=0.001, score=0.996, total=   0.1s\n",
      "[CV] C=100.0, gamma=0.01 .............................................\n",
      "[CV] ................. C=100.0, gamma=0.01, score=0.869, total=   0.2s\n",
      "[CV] C=100.0, gamma=0.01 .............................................\n",
      "[CV] ................. C=100.0, gamma=0.01, score=0.823, total=   0.2s\n",
      "[CV] C=100.0, gamma=0.01 .............................................\n",
      "[CV] ................. C=100.0, gamma=0.01, score=0.860, total=   0.2s\n",
      "[CV] C=100.0, gamma=0.01 .............................................\n",
      "[CV] ................. C=100.0, gamma=0.01, score=0.805, total=   0.2s\n",
      "[CV] C=100.0, gamma=0.01 .............................................\n",
      "[CV] ................. C=100.0, gamma=0.01, score=0.860, total=   0.2s\n",
      "[CV] C=100.0, gamma=0.1 ..............................................\n",
      "[CV] .................. C=100.0, gamma=0.1, score=0.106, total=   0.3s\n",
      "[CV] C=100.0, gamma=0.1 ..............................................\n",
      "[CV] .................. C=100.0, gamma=0.1, score=0.111, total=   0.3s\n",
      "[CV] C=100.0, gamma=0.1 ..............................................\n",
      "[CV] .................. C=100.0, gamma=0.1, score=0.107, total=   0.3s\n",
      "[CV] C=100.0, gamma=0.1 ..............................................\n",
      "[CV] .................. C=100.0, gamma=0.1, score=0.109, total=   0.3s\n",
      "[CV] C=100.0, gamma=0.1 ..............................................\n",
      "[CV] .................. C=100.0, gamma=0.1, score=0.106, total=   0.3s\n"
     ]
    },
    {
     "name": "stderr",
     "output_type": "stream",
     "text": [
      "[Parallel(n_jobs=1)]: Done 150 out of 150 | elapsed:   27.1s finished\n"
     ]
    },
    {
     "data": {
      "text/plain": [
       "GridSearchCV(cv=5, error_score='raise-deprecating',\n",
       "             estimator=SVC(C=1.0, cache_size=200, class_weight=None, coef0=0.0,\n",
       "                           decision_function_shape='ovr', degree=3,\n",
       "                           gamma='auto_deprecated', kernel='rbf', max_iter=-1,\n",
       "                           probability=False, random_state=None, shrinking=True,\n",
       "                           tol=0.001, verbose=False),\n",
       "             iid='warn', n_jobs=None,\n",
       "             param_grid={'C': array([  0.001,   0.01 ,   0.1  ,   1.   ,  10.   , 100.   ]),\n",
       "                         'gamma': array([0.00001, 0.0001 , 0.001  , 0.01   , 0.1    ])},\n",
       "             pre_dispatch='2*n_jobs', refit=True, return_train_score=False,\n",
       "             scoring=None, verbose=3)"
      ]
     },
     "execution_count": 24,
     "metadata": {},
     "output_type": "execute_result"
    }
   ],
   "source": [
    "grid_search.fit(X_train, y_train)"
   ]
  },
  {
   "cell_type": "code",
   "execution_count": 25,
   "metadata": {},
   "outputs": [
    {
     "data": {
      "text/plain": [
       "array([2, 8, 2, 6, 6, 7, 1, 9, 8, 5, 2, 8, 6, 6, 6, 6, 1, 0, 5, 8, 8, 7,\n",
       "       8, 4, 7, 5, 4, 9, 2, 9, 4, 7, 6, 8, 9, 4, 3, 1, 0, 1, 8, 6, 7, 7,\n",
       "       1, 0, 7, 6, 2, 1, 9, 6, 7, 9, 0, 0, 5, 1, 6, 3, 0, 2, 3, 4, 1, 9,\n",
       "       2, 6, 9, 1, 8, 3, 5, 1, 2, 8, 2, 2, 9, 7, 2, 3, 6, 0, 5, 3, 7, 5,\n",
       "       1, 2, 9, 9, 3, 1, 7, 7, 4, 8, 5, 8, 5, 5, 2, 5, 9, 0, 7, 1, 4, 7,\n",
       "       3, 4, 8, 9, 7, 9, 8, 2, 6, 5, 2, 5, 8, 4, 1, 7, 0, 6, 1, 5, 5, 9,\n",
       "       9, 5, 9, 9, 5, 7, 5, 6, 2, 8, 6, 9, 6, 1, 5, 1, 5, 9, 9, 1, 5, 3,\n",
       "       6, 1, 8, 9, 8, 7, 6, 7, 6, 5, 6, 0, 8, 8, 9, 8, 6, 1, 0, 4, 1, 6,\n",
       "       3, 8, 6, 7, 4, 9, 6, 3, 0, 3, 3, 3, 0, 7, 7, 5, 7, 8, 0, 7, 8, 9,\n",
       "       6, 4, 5, 0, 1, 4, 6, 4, 3, 3, 0, 9, 5, 9, 2, 1, 4, 2, 1, 6, 8, 9,\n",
       "       2, 4, 9, 3, 7, 6, 2, 3, 3, 1, 6, 9, 3, 6, 3, 2, 2, 0, 7, 6, 1, 1,\n",
       "       9, 7, 2, 7, 8, 5, 5, 7, 5, 2, 3, 7, 2, 7, 5, 5, 7, 0, 9, 1, 6, 5,\n",
       "       9, 7, 4, 3, 8, 0, 3, 6, 4, 6, 3, 2, 6, 8, 8, 8, 4, 6, 7, 5, 2, 4,\n",
       "       5, 3, 2, 4, 6, 9, 4, 5, 4, 3, 4, 6, 2, 9, 0, 1, 7, 2, 0, 9, 6, 0,\n",
       "       4, 2, 0, 7, 9, 8, 5, 4, 8, 2, 8, 4, 3, 7, 2, 6, 9, 1, 5, 1, 0, 8,\n",
       "       2, 1, 9, 5, 6, 8, 2, 7, 2, 1, 5, 1, 6, 4, 5, 0, 9, 4, 1, 1, 7, 0,\n",
       "       8, 9, 0, 5, 4, 3, 8, 8, 6, 5, 3, 4, 4, 4, 8, 8, 7, 0, 9, 6, 3, 5,\n",
       "       2, 3, 0, 8, 3, 3, 1, 3, 3, 0, 0, 4, 6, 0, 7, 7, 6, 2, 0, 4, 4, 2,\n",
       "       3, 7, 8, 9, 8, 6, 8, 5, 6, 2, 2, 3, 1, 7, 7, 8, 0, 3, 3, 2, 1, 5,\n",
       "       5, 9, 1, 3, 7, 0, 0, 7, 0, 4, 5, 9, 3, 3, 4, 3, 1, 8, 9, 8, 3, 6,\n",
       "       2, 1, 6, 2, 1, 7, 5, 5, 1, 9])"
      ]
     },
     "execution_count": 25,
     "metadata": {},
     "output_type": "execute_result"
    }
   ],
   "source": [
    "grid_search.predict(X_test)"
   ]
  },
  {
   "cell_type": "code",
   "execution_count": 26,
   "metadata": {},
   "outputs": [
    {
     "data": {
      "text/plain": [
       "0.9933333333333333"
      ]
     },
     "execution_count": 26,
     "metadata": {},
     "output_type": "execute_result"
    }
   ],
   "source": [
    "grid_search.score(X_test, y_test)"
   ]
  },
  {
   "cell_type": "code",
   "execution_count": 27,
   "metadata": {},
   "outputs": [
    {
     "data": {
      "text/plain": [
       "{'C': 10.0, 'gamma': 0.001}"
      ]
     },
     "execution_count": 27,
     "metadata": {},
     "output_type": "execute_result"
    }
   ],
   "source": [
    "grid_search.best_params_"
   ]
  },
  {
   "cell_type": "code",
   "execution_count": 28,
   "metadata": {},
   "outputs": [
    {
     "data": {
      "text/plain": [
       "0.991833704528582"
      ]
     },
     "execution_count": 28,
     "metadata": {},
     "output_type": "execute_result"
    }
   ],
   "source": [
    "grid_search.best_score_"
   ]
  },
  {
   "cell_type": "code",
   "execution_count": 29,
   "metadata": {},
   "outputs": [
    {
     "data": {
      "text/plain": [
       "SVC(C=10.0, cache_size=200, class_weight=None, coef0=0.0,\n",
       "    decision_function_shape='ovr', degree=3, gamma=0.001, kernel='rbf',\n",
       "    max_iter=-1, probability=False, random_state=None, shrinking=True,\n",
       "    tol=0.001, verbose=False)"
      ]
     },
     "execution_count": 29,
     "metadata": {},
     "output_type": "execute_result"
    }
   ],
   "source": [
    "grid_search.best_estimator_"
   ]
  },
  {
   "cell_type": "code",
   "execution_count": 30,
   "metadata": {},
   "outputs": [
    {
     "data": {
      "image/png": "[encoded data removed]",
      "text/plain": [
       "<Figure size 288x345.6 with 2 Axes>"
      ]
     },
     "metadata": {
      "needs_background": "light"
     },
     "output_type": "display_data"
    }
   ],
   "source": [
    "# We extract just the scores\n",
    "\n",
    "scores = grid_search.cv_results_['mean_test_score']\n",
    "scores = np.array(scores).reshape(6, 5)\n",
    "\n",
    "plt.matshow(scores)\n",
    "plt.xlabel('gamma')\n",
    "plt.ylabel('C')\n",
    "plt.colorbar()\n",
    "plt.xticks(np.arange(5), param_grid['gamma'])\n",
    "plt.yticks(np.arange(6), param_grid['C']);"
   ]
  }
 ],
 "metadata": {
  "anaconda-cloud": {},
  "kernelspec": {
   "display_name": "Python 3",
   "language": "python",
   "name": "python3"
  },
  "language_info": {
   "codemirror_mode": {
    "name": "ipython",
    "version": 3
   },
   "file_extension": ".py",
   "mimetype": "text/x-python",
   "name": "python",
   "nbconvert_exporter": "python",
   "pygments_lexer": "ipython3",
   "version": "3.7.3"
  }
 },
 "nbformat": 4,
 "nbformat_minor": 2
}
