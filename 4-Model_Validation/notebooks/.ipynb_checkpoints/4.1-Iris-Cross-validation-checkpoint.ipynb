{
 "cells": [
  {
   "cell_type": "markdown",
   "metadata": {},
   "source": [
    "# Digits - Cross-validation"
   ]
  },
  {
   "cell_type": "markdown",
   "metadata": {},
   "source": [
    "### Import Libraries"
   ]
  },
  {
   "cell_type": "code",
   "execution_count": 1,
   "metadata": {},
   "outputs": [],
   "source": [
    "import numpy as np\n",
    "import matplotlib.pyplot as plt\n",
    "%matplotlib inline\n",
    "\n",
    "from sklearn.datasets import load_iris\n",
    "from sklearn.model_selection import train_test_split\n",
    "from sklearn.model_selection import cross_val_score\n",
    "from sklearn.model_selection import GridSearchCV\n",
    "from sklearn.neighbors import KNeighborsClassifier\n",
    "from sklearn.svm import SVC"
   ]
  },
  {
   "cell_type": "markdown",
   "metadata": {},
   "source": [
    "### Import Dataset"
   ]
  },
  {
   "cell_type": "code",
   "execution_count": 2,
   "metadata": {},
   "outputs": [],
   "source": [
    "iris = load_iris()\n",
    "X = iris.data\n",
    "y = iris.target"
   ]
  },
  {
   "cell_type": "markdown",
   "metadata": {},
   "source": [
    "## Train-Test Validation"
   ]
  },
  {
   "cell_type": "markdown",
   "metadata": {},
   "source": [
    "### Data Splitting"
   ]
  },
  {
   "cell_type": "code",
   "execution_count": 3,
   "metadata": {},
   "outputs": [],
   "source": [
    "X_train, X_test, y_train, y_test = train_test_split(\n",
    "    X, y, random_state=0)"
   ]
  },
  {
   "cell_type": "markdown",
   "metadata": {},
   "source": [
    "### Create Model"
   ]
  },
  {
   "cell_type": "code",
   "execution_count": 4,
   "metadata": {},
   "outputs": [],
   "source": [
    "model = KNeighborsClassifier(n_neighbors=1)"
   ]
  },
  {
   "cell_type": "markdown",
   "metadata": {},
   "source": [
    "### Train Model"
   ]
  },
  {
   "cell_type": "code",
   "execution_count": 5,
   "metadata": {},
   "outputs": [
    {
     "data": {
      "text/plain": [
       "KNeighborsClassifier(algorithm='auto', leaf_size=30, metric='minkowski',\n",
       "                     metric_params=None, n_jobs=None, n_neighbors=1, p=2,\n",
       "                     weights='uniform')"
      ]
     },
     "execution_count": 5,
     "metadata": {},
     "output_type": "execute_result"
    }
   ],
   "source": [
    "model.fit(X_train, y_train)"
   ]
  },
  {
   "cell_type": "markdown",
   "metadata": {},
   "source": [
    "### Validate Model"
   ]
  },
  {
   "cell_type": "code",
   "execution_count": 6,
   "metadata": {},
   "outputs": [
    {
     "data": {
      "text/plain": [
       "0.9736842105263158"
      ]
     },
     "execution_count": 6,
     "metadata": {},
     "output_type": "execute_result"
    }
   ],
   "source": [
    "model.score(X_test, y_test)"
   ]
  },
  {
   "cell_type": "markdown",
   "metadata": {},
   "source": [
    "## Threefold Validation"
   ]
  },
  {
   "cell_type": "markdown",
   "metadata": {},
   "source": [
    "### Data Splitting"
   ]
  },
  {
   "cell_type": "code",
   "execution_count": 7,
   "metadata": {},
   "outputs": [],
   "source": [
    "X_trainval, X_test, y_trainval, y_test = train_test_split(X, y, random_state=0)\n",
    "X_train, X_val, y_train, y_val = train_test_split(X_trainval, y_trainval, random_state=0)"
   ]
  },
  {
   "cell_type": "markdown",
   "metadata": {},
   "source": [
    "### Create & Train Model"
   ]
  },
  {
   "cell_type": "code",
   "execution_count": 8,
   "metadata": {},
   "outputs": [
    {
     "name": "stdout",
     "output_type": "stream",
     "text": [
      "best validation score:  1.0\n",
      "best number of neighbors:  5\n"
     ]
    }
   ],
   "source": [
    "val_scores = []\n",
    "neighbors = np.arange(1, 15, 2)\n",
    "\n",
    "for i in neighbors:\n",
    "    knn = KNeighborsClassifier(n_neighbors=i)\n",
    "    knn.fit(X_train, y_train)\n",
    "    val_scores.append(knn.score(X_val, y_val))\n",
    "\n",
    "print(\"best validation score: \", np.max(val_scores))\n",
    "best_n_neighbors = neighbors[np.argmax(val_scores)]\n",
    "print(\"best number of neighbors: \", best_n_neighbors)"
   ]
  },
  {
   "cell_type": "markdown",
   "metadata": {},
   "source": [
    "### Retrain & Evaluate Model"
   ]
  },
  {
   "cell_type": "code",
   "execution_count": 9,
   "metadata": {},
   "outputs": [
    {
     "name": "stdout",
     "output_type": "stream",
     "text": [
      "test-set score:  0.9736842105263158\n"
     ]
    }
   ],
   "source": [
    "knn = KNeighborsClassifier(n_neighbors=best_n_neighbors)\n",
    "knn.fit(X_trainval, y_trainval)\n",
    "print(\"test-set score: \", knn.score(X_test, y_test))"
   ]
  },
  {
   "cell_type": "markdown",
   "metadata": {},
   "source": [
    "## Cross-Validation"
   ]
  },
  {
   "cell_type": "markdown",
   "metadata": {},
   "source": [
    "### Data Splitting"
   ]
  },
  {
   "cell_type": "code",
   "execution_count": 10,
   "metadata": {},
   "outputs": [],
   "source": [
    "X_train, X_test, y_train, y_test = train_test_split(X, y, random_state=0)"
   ]
  },
  {
   "cell_type": "markdown",
   "metadata": {},
   "source": [
    "### Cross Validation Score"
   ]
  },
  {
   "cell_type": "code",
   "execution_count": 11,
   "metadata": {},
   "outputs": [
    {
     "name": "stdout",
     "output_type": "stream",
     "text": [
      "best validation score:  1.0\n",
      "best number of neighbors:  5\n"
     ]
    }
   ],
   "source": [
    "cross_val_scores = []\n",
    "neighbors = np.arange(1, 15, 2)\n",
    "\n",
    "for i in neighbors:\n",
    "    knn = KNeighborsClassifier(n_neighbors=i)\n",
    "    scores = cross_val_score(knn, X_train, y_train, cv=10)\n",
    "    cross_val_scores.append(np.mean(scores))\n",
    "\n",
    "print(\"best validation score: \", np.max(val_scores))\n",
    "best_n_neighbors = neighbors[np.argmax(val_scores)]\n",
    "print(\"best number of neighbors: \", best_n_neighbors)"
   ]
  },
  {
   "cell_type": "markdown",
   "metadata": {},
   "source": [
    "### Retrain Model"
   ]
  },
  {
   "cell_type": "code",
   "execution_count": 12,
   "metadata": {},
   "outputs": [
    {
     "name": "stdout",
     "output_type": "stream",
     "text": [
      "test-set score:  0.9736842105263158\n"
     ]
    }
   ],
   "source": [
    "knn = KNeighborsClassifier(n_neighbors=best_n_neighbors)\n",
    "knn.fit(X_trainval, y_trainval)\n",
    "print(\"test-set score: \", knn.score(X_test, y_test))"
   ]
  },
  {
   "cell_type": "markdown",
   "metadata": {},
   "source": [
    "## Grid Searches with Cross-Validation for K-Neighbors"
   ]
  },
  {
   "cell_type": "markdown",
   "metadata": {},
   "source": [
    "### Define Parameter Grid"
   ]
  },
  {
   "cell_type": "code",
   "execution_count": 13,
   "metadata": {},
   "outputs": [],
   "source": [
    "param_grid = {'n_neighbors': np.arange(1, 15, 2)}"
   ]
  },
  {
   "cell_type": "markdown",
   "metadata": {},
   "source": [
    "### Create, Train & Test Model GridSearchCV"
   ]
  },
  {
   "cell_type": "code",
   "execution_count": 14,
   "metadata": {},
   "outputs": [
    {
     "name": "stderr",
     "output_type": "stream",
     "text": [
      "/Volumes/DataHD/Users/phermar/anaconda3/envs/aprendiz-ml/lib/python3.7/site-packages/sklearn/model_selection/_search.py:813: DeprecationWarning: The default of the `iid` parameter will change from True to False in version 0.22 and will be removed in 0.24. This will change numeric results when test-set sizes are unequal.\n",
      "  DeprecationWarning)\n"
     ]
    },
    {
     "data": {
      "text/plain": [
       "GridSearchCV(cv=10, error_score='raise-deprecating',\n",
       "             estimator=KNeighborsClassifier(algorithm='auto', leaf_size=30,\n",
       "                                            metric='minkowski',\n",
       "                                            metric_params=None, n_jobs=None,\n",
       "                                            n_neighbors=5, p=2,\n",
       "                                            weights='uniform'),\n",
       "             iid='warn', n_jobs=None,\n",
       "             param_grid={'n_neighbors': array([ 1,  3,  5,  7,  9, 11, 13])},\n",
       "             pre_dispatch='2*n_jobs', refit=True, return_train_score=True,\n",
       "             scoring=None, verbose=0)"
      ]
     },
     "execution_count": 14,
     "metadata": {},
     "output_type": "execute_result"
    }
   ],
   "source": [
    "grid = GridSearchCV(KNeighborsClassifier(), param_grid=param_grid,\n",
    "                    return_train_score=True, cv=10)\n",
    "\n",
    "grid.fit(X_train, y_train)"
   ]
  },
  {
   "cell_type": "markdown",
   "metadata": {},
   "source": [
    "### Get Best Results"
   ]
  },
  {
   "cell_type": "code",
   "execution_count": 15,
   "metadata": {},
   "outputs": [
    {
     "data": {
      "text/plain": [
       "0.9642857142857143"
      ]
     },
     "execution_count": 15,
     "metadata": {},
     "output_type": "execute_result"
    }
   ],
   "source": [
    "grid.best_score_"
   ]
  },
  {
   "cell_type": "code",
   "execution_count": 16,
   "metadata": {},
   "outputs": [
    {
     "data": {
      "text/plain": [
       "{'n_neighbors': 7}"
      ]
     },
     "execution_count": 16,
     "metadata": {},
     "output_type": "execute_result"
    }
   ],
   "source": [
    "grid.best_params_"
   ]
  },
  {
   "cell_type": "code",
   "execution_count": 17,
   "metadata": {},
   "outputs": [
    {
     "data": {
      "text/plain": [
       "KNeighborsClassifier(algorithm='auto', leaf_size=30, metric='minkowski',\n",
       "                     metric_params=None, n_jobs=None, n_neighbors=7, p=2,\n",
       "                     weights='uniform')"
      ]
     },
     "execution_count": 17,
     "metadata": {},
     "output_type": "execute_result"
    }
   ],
   "source": [
    "grid.best_estimator_"
   ]
  },
  {
   "cell_type": "code",
   "execution_count": 18,
   "metadata": {},
   "outputs": [
    {
     "data": {
      "text/plain": [
       "0.9732142857142857"
      ]
     },
     "execution_count": 18,
     "metadata": {},
     "output_type": "execute_result"
    }
   ],
   "source": [
    "grid.score(X_train, y_train)"
   ]
  },
  {
   "cell_type": "code",
   "execution_count": 19,
   "metadata": {},
   "outputs": [
    {
     "data": {
      "text/plain": [
       "0.9736842105263158"
      ]
     },
     "execution_count": 19,
     "metadata": {},
     "output_type": "execute_result"
    }
   ],
   "source": [
    "grid.score(X_test, y_test)"
   ]
  },
  {
   "cell_type": "markdown",
   "metadata": {},
   "source": [
    "### Visualize Results"
   ]
  },
  {
   "cell_type": "code",
   "execution_count": 20,
   "metadata": {},
   "outputs": [],
   "source": [
    "results = grid.cv_results_"
   ]
  },
  {
   "cell_type": "code",
   "execution_count": 21,
   "metadata": {},
   "outputs": [
    {
     "data": {
      "text/plain": [
       "<matplotlib.legend.Legend at 0x1a1bb749b0>"
      ]
     },
     "execution_count": 21,
     "metadata": {},
     "output_type": "execute_result"
    },
    {
     "data": {
      "image/png": "[encoded data removed]",
      "text/plain": [
       "<Figure size 432x288 with 1 Axes>"
      ]
     },
     "metadata": {
      "needs_background": "light"
     },
     "output_type": "display_data"
    }
   ],
   "source": [
    "plt.plot(param_grid['n_neighbors'], results['mean_train_score'], \n",
    "         label=\"train\")\n",
    "plt.plot(param_grid['n_neighbors'], results['mean_test_score'], \n",
    "         label=\"test\")\n",
    "plt.legend()"
   ]
  },
  {
   "cell_type": "markdown",
   "metadata": {},
   "source": [
    "## Grid Searches with Cross Validation for SVC"
   ]
  },
  {
   "cell_type": "markdown",
   "metadata": {},
   "source": [
    "### Define Parameter Grid"
   ]
  },
  {
   "cell_type": "code",
   "execution_count": 22,
   "metadata": {},
   "outputs": [
    {
     "name": "stdout",
     "output_type": "stream",
     "text": [
      "{'C': array([  0.001,   0.01 ,   0.1  ,   1.   ,  10.   , 100.   ]), 'gamma': array([0.00001, 0.0001 , 0.001  , 0.01   , 0.1    ])}\n"
     ]
    }
   ],
   "source": [
    "param_grid = {'C': 10. ** np.arange(-3, 3),\n",
    "              'gamma' : 10. ** np.arange(-5, 0)}\n",
    "np.set_printoptions(suppress=True)\n",
    "print(param_grid)"
   ]
  },
  {
   "cell_type": "markdown",
   "metadata": {},
   "source": [
    "### Create & Fit Model GridSearchCV"
   ]
  },
  {
   "cell_type": "code",
   "execution_count": 23,
   "metadata": {},
   "outputs": [],
   "source": [
    "grid_search = GridSearchCV(SVC(), param_grid, verbose=3, cv=5)"
   ]
  },
  {
   "cell_type": "code",
   "execution_count": 24,
   "metadata": {},
   "outputs": [
    {
     "name": "stdout",
     "output_type": "stream",
     "text": [
      "Fitting 5 folds for each of 30 candidates, totalling 150 fits\n",
      "[CV] C=0.001, gamma=1e-05 ............................................\n",
      "[CV] ................ C=0.001, gamma=1e-05, score=0.375, total=   0.0s\n",
      "[CV] C=0.001, gamma=1e-05 ............................................\n",
      "[CV] ................ C=0.001, gamma=1e-05, score=0.348, total=   0.0s\n",
      "[CV] C=0.001, gamma=1e-05 ............................................\n",
      "[CV] ................ C=0.001, gamma=1e-05, score=0.364, total=   0.0s\n",
      "[CV] C=0.001, gamma=1e-05 ............................................\n",
      "[CV] ................ C=0.001, gamma=1e-05, score=0.364, total=   0.0s\n",
      "[CV] C=0.001, gamma=1e-05 ............................................\n",
      "[CV] ................ C=0.001, gamma=1e-05, score=0.381, total=   0.0s\n",
      "[CV] C=0.001, gamma=0.0001 ...........................................\n",
      "[CV] ............... C=0.001, gamma=0.0001, score=0.375, total=   0.0s\n",
      "[CV] C=0.001, gamma=0.0001 ...........................................\n",
      "[CV] ............... C=0.001, gamma=0.0001, score=0.348, total=   0.0s\n",
      "[CV] C=0.001, gamma=0.0001 ...........................................\n",
      "[CV] ............... C=0.001, gamma=0.0001, score=0.364, total=   0.0s\n",
      "[CV] C=0.001, gamma=0.0001 ...........................................\n",
      "[CV] ............... C=0.001, gamma=0.0001, score=0.364, total=   0.0s\n",
      "[CV] C=0.001, gamma=0.0001 ...........................................\n",
      "[CV] ............... C=0.001, gamma=0.0001, score=0.381, total=   0.0s\n",
      "[CV] C=0.001, gamma=0.001 ............................................\n",
      "[CV] ................ C=0.001, gamma=0.001, score=0.375, total=   0.0s\n",
      "[CV] C=0.001, gamma=0.001 ............................................\n",
      "[CV] ................ C=0.001, gamma=0.001, score=0.348, total=   0.0s\n",
      "[CV] C=0.001, gamma=0.001 ............................................\n",
      "[CV] ................ C=0.001, gamma=0.001, score=0.364, total=   0.0s\n",
      "[CV] C=0.001, gamma=0.001 ............................................\n",
      "[CV] ................ C=0.001, gamma=0.001, score=0.364, total=   0.0s\n",
      "[CV] C=0.001, gamma=0.001 ............................................\n",
      "[CV] ................ C=0.001, gamma=0.001, score=0.381, total=   0.0s\n",
      "[CV] C=0.001, gamma=0.01 .............................................\n",
      "[CV] ................. C=0.001, gamma=0.01, score=0.375, total=   0.0s\n",
      "[CV] C=0.001, gamma=0.01 .............................................\n",
      "[CV] ................. C=0.001, gamma=0.01, score=0.348, total=   0.0s\n",
      "[CV] C=0.001, gamma=0.01 .............................................\n",
      "[CV] ................. C=0.001, gamma=0.01, score=0.364, total=   0.0s\n",
      "[CV] C=0.001, gamma=0.01 .............................................\n",
      "[CV] ................. C=0.001, gamma=0.01, score=0.364, total=   0.0s\n",
      "[CV] C=0.001, gamma=0.01 .............................................\n",
      "[CV] ................. C=0.001, gamma=0.01, score=0.381, total=   0.0s\n",
      "[CV] C=0.001, gamma=0.1 ..............................................\n",
      "[CV] .................. C=0.001, gamma=0.1, score=0.375, total=   0.0s\n",
      "[CV] C=0.001, gamma=0.1 ..............................................\n",
      "[CV] .................. C=0.001, gamma=0.1, score=0.348, total=   0.0s\n",
      "[CV] C=0.001, gamma=0.1 ..............................................\n",
      "[CV] .................. C=0.001, gamma=0.1, score=0.364, total=   0.0s\n",
      "[CV] C=0.001, gamma=0.1 ..............................................\n",
      "[CV] .................. C=0.001, gamma=0.1, score=0.364, total=   0.0s\n",
      "[CV] C=0.001, gamma=0.1 ..............................................\n",
      "[CV] .................. C=0.001, gamma=0.1, score=0.381, total=   0.0s\n",
      "[CV] C=0.01, gamma=1e-05 .............................................\n",
      "[CV] ................. C=0.01, gamma=1e-05, score=0.375, total=   0.0s\n",
      "[CV] C=0.01, gamma=1e-05 .............................................\n",
      "[CV] ................. C=0.01, gamma=1e-05, score=0.348, total=   0.0s\n",
      "[CV] C=0.01, gamma=1e-05 .............................................\n",
      "[CV] ................. C=0.01, gamma=1e-05, score=0.364, total=   0.0s\n",
      "[CV] C=0.01, gamma=1e-05 .............................................\n",
      "[CV] ................. C=0.01, gamma=1e-05, score=0.364, total=   0.0s\n",
      "[CV] C=0.01, gamma=1e-05 .............................................\n",
      "[CV] ................. C=0.01, gamma=1e-05, score=0.381, total=   0.0s\n",
      "[CV] C=0.01, gamma=0.0001 ............................................\n",
      "[CV] ................ C=0.01, gamma=0.0001, score=0.375, total=   0.0s\n",
      "[CV] C=0.01, gamma=0.0001 ............................................\n",
      "[CV] ................ C=0.01, gamma=0.0001, score=0.348, total=   0.0s\n",
      "[CV] C=0.01, gamma=0.0001 ............................................\n",
      "[CV] ................ C=0.01, gamma=0.0001, score=0.364, total=   0.0s\n",
      "[CV] C=0.01, gamma=0.0001 ............................................\n",
      "[CV] ................ C=0.01, gamma=0.0001, score=0.364, total=   0.0s\n",
      "[CV] C=0.01, gamma=0.0001 ............................................\n",
      "[CV] ................ C=0.01, gamma=0.0001, score=0.381, total=   0.0s\n",
      "[CV] C=0.01, gamma=0.001 .............................................\n",
      "[CV] ................. C=0.01, gamma=0.001, score=0.375, total=   0.0s\n",
      "[CV] C=0.01, gamma=0.001 .............................................\n",
      "[CV] ................. C=0.01, gamma=0.001, score=0.348, total=   0.0s\n",
      "[CV] C=0.01, gamma=0.001 .............................................\n",
      "[CV] ................. C=0.01, gamma=0.001, score=0.364, total=   0.0s\n",
      "[CV] C=0.01, gamma=0.001 .............................................\n",
      "[CV] ................. C=0.01, gamma=0.001, score=0.364, total=   0.0s\n",
      "[CV] C=0.01, gamma=0.001 .............................................\n",
      "[CV] ................. C=0.01, gamma=0.001, score=0.381, total=   0.0s\n",
      "[CV] C=0.01, gamma=0.01 ..............................................\n",
      "[CV] .................. C=0.01, gamma=0.01, score=0.375, total=   0.0s\n",
      "[CV] C=0.01, gamma=0.01 ..............................................\n",
      "[CV] .................. C=0.01, gamma=0.01, score=0.348, total=   0.0s\n",
      "[CV] C=0.01, gamma=0.01 ..............................................\n",
      "[CV] .................. C=0.01, gamma=0.01, score=0.364, total=   0.0s\n",
      "[CV] C=0.01, gamma=0.01 ..............................................\n",
      "[CV] .................. C=0.01, gamma=0.01, score=0.364, total=   0.0s\n",
      "[CV] C=0.01, gamma=0.01 ..............................................\n",
      "[CV] .................. C=0.01, gamma=0.01, score=0.381, total=   0.0s\n",
      "[CV] C=0.01, gamma=0.1 ...............................................\n",
      "[CV] ................... C=0.01, gamma=0.1, score=0.375, total=   0.0s\n",
      "[CV] C=0.01, gamma=0.1 ...............................................\n",
      "[CV] ................... C=0.01, gamma=0.1, score=0.348, total=   0.0s\n",
      "[CV] C=0.01, gamma=0.1 ...............................................\n",
      "[CV] ................... C=0.01, gamma=0.1, score=0.364, total=   0.0s\n",
      "[CV] C=0.01, gamma=0.1 ...............................................\n",
      "[CV] ................... C=0.01, gamma=0.1, score=0.364, total=   0.0s\n",
      "[CV] C=0.01, gamma=0.1 ...............................................\n",
      "[CV] ................... C=0.01, gamma=0.1, score=0.381, total=   0.0s\n",
      "[CV] C=0.1, gamma=1e-05 ..............................................\n",
      "[CV] .................. C=0.1, gamma=1e-05, score=0.375, total=   0.0s\n",
      "[CV] C=0.1, gamma=1e-05 ..............................................\n",
      "[CV] .................. C=0.1, gamma=1e-05, score=0.348, total=   0.0s\n",
      "[CV] C=0.1, gamma=1e-05 ..............................................\n",
      "[CV] .................. C=0.1, gamma=1e-05, score=0.364, total=   0.0s\n",
      "[CV] C=0.1, gamma=1e-05 ..............................................\n",
      "[CV] .................. C=0.1, gamma=1e-05, score=0.364, total=   0.0s\n",
      "[CV] C=0.1, gamma=1e-05 ..............................................\n",
      "[CV] .................. C=0.1, gamma=1e-05, score=0.381, total=   0.0s\n",
      "[CV] C=0.1, gamma=0.0001 .............................................\n",
      "[CV] ................. C=0.1, gamma=0.0001, score=0.375, total=   0.0s\n",
      "[CV] C=0.1, gamma=0.0001 .............................................\n",
      "[CV] ................. C=0.1, gamma=0.0001, score=0.348, total=   0.0s\n",
      "[CV] C=0.1, gamma=0.0001 .............................................\n",
      "[CV] ................. C=0.1, gamma=0.0001, score=0.364, total=   0.0s\n",
      "[CV] C=0.1, gamma=0.0001 .............................................\n",
      "[CV] ................. C=0.1, gamma=0.0001, score=0.364, total=   0.0s\n",
      "[CV] C=0.1, gamma=0.0001 .............................................\n",
      "[CV] ................. C=0.1, gamma=0.0001, score=0.381, total=   0.0s\n",
      "[CV] C=0.1, gamma=0.001 ..............................................\n",
      "[CV] .................. C=0.1, gamma=0.001, score=0.375, total=   0.0s\n",
      "[CV] C=0.1, gamma=0.001 ..............................................\n",
      "[CV] .................. C=0.1, gamma=0.001, score=0.348, total=   0.0s\n",
      "[CV] C=0.1, gamma=0.001 ..............................................\n",
      "[CV] .................. C=0.1, gamma=0.001, score=0.364, total=   0.0s\n",
      "[CV] C=0.1, gamma=0.001 ..............................................\n",
      "[CV] .................. C=0.1, gamma=0.001, score=0.364, total=   0.0s\n",
      "[CV] C=0.1, gamma=0.001 ..............................................\n",
      "[CV] .................. C=0.1, gamma=0.001, score=0.381, total=   0.0s\n",
      "[CV] C=0.1, gamma=0.01 ...............................................\n",
      "[CV] ................... C=0.1, gamma=0.01, score=0.708, total=   0.0s\n",
      "[CV] C=0.1, gamma=0.01 ...............................................\n",
      "[CV] ................... C=0.1, gamma=0.01, score=0.696, total=   0.0s\n",
      "[CV] C=0.1, gamma=0.01 ...............................................\n",
      "[CV] ................... C=0.1, gamma=0.01, score=0.682, total=   0.0s\n",
      "[CV] C=0.1, gamma=0.01 ...............................................\n",
      "[CV] ................... C=0.1, gamma=0.01, score=0.682, total=   0.0s\n",
      "[CV] C=0.1, gamma=0.01 ...............................................\n",
      "[CV] ................... C=0.1, gamma=0.01, score=0.714, total=   0.0s\n",
      "[CV] C=0.1, gamma=0.1 ................................................\n",
      "[CV] .................... C=0.1, gamma=0.1, score=0.917, total=   0.0s\n",
      "[CV] C=0.1, gamma=0.1 ................................................\n",
      "[CV] .................... C=0.1, gamma=0.1, score=0.913, total=   0.0s\n",
      "[CV] C=0.1, gamma=0.1 ................................................\n",
      "[CV] .................... C=0.1, gamma=0.1, score=1.000, total=   0.0s\n",
      "[CV] C=0.1, gamma=0.1 ................................................\n",
      "[CV] .................... C=0.1, gamma=0.1, score=0.864, total=   0.0s\n",
      "[CV] C=0.1, gamma=0.1 ................................................\n",
      "[CV] .................... C=0.1, gamma=0.1, score=0.905, total=   0.0s\n",
      "[CV] C=1.0, gamma=1e-05 ..............................................\n",
      "[CV] .................. C=1.0, gamma=1e-05, score=0.375, total=   0.0s\n",
      "[CV] C=1.0, gamma=1e-05 ..............................................\n",
      "[CV] .................. C=1.0, gamma=1e-05, score=0.348, total=   0.0s\n",
      "[CV] C=1.0, gamma=1e-05 ..............................................\n",
      "[CV] .................. C=1.0, gamma=1e-05, score=0.364, total=   0.0s\n",
      "[CV] C=1.0, gamma=1e-05 ..............................................\n",
      "[CV] .................. C=1.0, gamma=1e-05, score=0.364, total=   0.0s\n",
      "[CV] C=1.0, gamma=1e-05 ..............................................\n",
      "[CV] .................. C=1.0, gamma=1e-05, score=0.381, total=   0.0s\n",
      "[CV] C=1.0, gamma=0.0001 .............................................\n",
      "[CV] ................. C=1.0, gamma=0.0001, score=0.375, total=   0.0s\n",
      "[CV] C=1.0, gamma=0.0001 .............................................\n"
     ]
    },
    {
     "name": "stdout",
     "output_type": "stream",
     "text": [
      "[CV] ................. C=1.0, gamma=0.0001, score=0.348, total=   0.0s\n",
      "[CV] C=1.0, gamma=0.0001 .............................................\n",
      "[CV] ................. C=1.0, gamma=0.0001, score=0.364, total=   0.0s\n",
      "[CV] C=1.0, gamma=0.0001 .............................................\n",
      "[CV] ................. C=1.0, gamma=0.0001, score=0.364, total=   0.0s\n",
      "[CV] C=1.0, gamma=0.0001 .............................................\n",
      "[CV] ................. C=1.0, gamma=0.0001, score=0.381, total=   0.0s\n",
      "[CV] C=1.0, gamma=0.001 ..............................................\n",
      "[CV] .................. C=1.0, gamma=0.001, score=0.708, total=   0.0s\n",
      "[CV] C=1.0, gamma=0.001 ..............................................\n",
      "[CV] .................. C=1.0, gamma=0.001, score=0.696, total=   0.0s\n",
      "[CV] C=1.0, gamma=0.001 ..............................................\n",
      "[CV] .................. C=1.0, gamma=0.001, score=0.682, total=   0.0s\n",
      "[CV] C=1.0, gamma=0.001 ..............................................\n",
      "[CV] .................. C=1.0, gamma=0.001, score=0.682, total=   0.0s\n",
      "[CV] C=1.0, gamma=0.001 ..............................................\n",
      "[CV] .................. C=1.0, gamma=0.001, score=0.714, total=   0.0s\n",
      "[CV] C=1.0, gamma=0.01 ...............................................\n"
     ]
    },
    {
     "name": "stderr",
     "output_type": "stream",
     "text": [
      "[Parallel(n_jobs=1)]: Using backend SequentialBackend with 1 concurrent workers.\n",
      "[Parallel(n_jobs=1)]: Done   1 out of   1 | elapsed:    0.0s remaining:    0.0s\n",
      "[Parallel(n_jobs=1)]: Done   2 out of   2 | elapsed:    0.0s remaining:    0.0s\n"
     ]
    },
    {
     "name": "stdout",
     "output_type": "stream",
     "text": [
      "[CV] ................... C=1.0, gamma=0.01, score=0.875, total=   0.0s\n",
      "[CV] C=1.0, gamma=0.01 ...............................................\n",
      "[CV] ................... C=1.0, gamma=0.01, score=0.913, total=   0.0s\n",
      "[CV] C=1.0, gamma=0.01 ...............................................\n",
      "[CV] ................... C=1.0, gamma=0.01, score=1.000, total=   0.0s\n",
      "[CV] C=1.0, gamma=0.01 ...............................................\n",
      "[CV] ................... C=1.0, gamma=0.01, score=0.909, total=   0.0s\n",
      "[CV] C=1.0, gamma=0.01 ...............................................\n",
      "[CV] ................... C=1.0, gamma=0.01, score=0.952, total=   0.0s\n",
      "[CV] C=1.0, gamma=0.1 ................................................\n",
      "[CV] .................... C=1.0, gamma=0.1, score=1.000, total=   0.0s\n",
      "[CV] C=1.0, gamma=0.1 ................................................\n",
      "[CV] .................... C=1.0, gamma=0.1, score=0.957, total=   0.0s\n",
      "[CV] C=1.0, gamma=0.1 ................................................\n",
      "[CV] .................... C=1.0, gamma=0.1, score=1.000, total=   0.0s\n",
      "[CV] C=1.0, gamma=0.1 ................................................\n",
      "[CV] .................... C=1.0, gamma=0.1, score=0.909, total=   0.0s\n",
      "[CV] C=1.0, gamma=0.1 ................................................\n",
      "[CV] .................... C=1.0, gamma=0.1, score=0.952, total=   0.0s\n",
      "[CV] C=10.0, gamma=1e-05 .............................................\n",
      "[CV] ................. C=10.0, gamma=1e-05, score=0.375, total=   0.0s\n",
      "[CV] C=10.0, gamma=1e-05 .............................................\n",
      "[CV] ................. C=10.0, gamma=1e-05, score=0.348, total=   0.0s\n",
      "[CV] C=10.0, gamma=1e-05 .............................................\n",
      "[CV] ................. C=10.0, gamma=1e-05, score=0.364, total=   0.0s\n",
      "[CV] C=10.0, gamma=1e-05 .............................................\n",
      "[CV] ................. C=10.0, gamma=1e-05, score=0.364, total=   0.0s\n",
      "[CV] C=10.0, gamma=1e-05 .............................................\n",
      "[CV] ................. C=10.0, gamma=1e-05, score=0.381, total=   0.0s\n",
      "[CV] C=10.0, gamma=0.0001 ............................................\n",
      "[CV] ................ C=10.0, gamma=0.0001, score=0.708, total=   0.0s\n",
      "[CV] C=10.0, gamma=0.0001 ............................................\n",
      "[CV] ................ C=10.0, gamma=0.0001, score=0.696, total=   0.0s\n",
      "[CV] C=10.0, gamma=0.0001 ............................................\n",
      "[CV] ................ C=10.0, gamma=0.0001, score=0.682, total=   0.0s\n",
      "[CV] C=10.0, gamma=0.0001 ............................................\n",
      "[CV] ................ C=10.0, gamma=0.0001, score=0.682, total=   0.0s\n",
      "[CV] C=10.0, gamma=0.0001 ............................................\n",
      "[CV] ................ C=10.0, gamma=0.0001, score=0.714, total=   0.0s\n",
      "[CV] C=10.0, gamma=0.001 .............................................\n",
      "[CV] ................. C=10.0, gamma=0.001, score=0.875, total=   0.0s\n",
      "[CV] C=10.0, gamma=0.001 .............................................\n",
      "[CV] ................. C=10.0, gamma=0.001, score=0.913, total=   0.0s\n",
      "[CV] C=10.0, gamma=0.001 .............................................\n",
      "[CV] ................. C=10.0, gamma=0.001, score=1.000, total=   0.0s\n",
      "[CV] C=10.0, gamma=0.001 .............................................\n",
      "[CV] ................. C=10.0, gamma=0.001, score=0.909, total=   0.0s\n",
      "[CV] C=10.0, gamma=0.001 .............................................\n",
      "[CV] ................. C=10.0, gamma=0.001, score=0.952, total=   0.0s\n",
      "[CV] C=10.0, gamma=0.01 ..............................................\n",
      "[CV] .................. C=10.0, gamma=0.01, score=1.000, total=   0.0s\n",
      "[CV] C=10.0, gamma=0.01 ..............................................\n",
      "[CV] .................. C=10.0, gamma=0.01, score=0.957, total=   0.0s\n",
      "[CV] C=10.0, gamma=0.01 ..............................................\n",
      "[CV] .................. C=10.0, gamma=0.01, score=1.000, total=   0.0s\n",
      "[CV] C=10.0, gamma=0.01 ..............................................\n",
      "[CV] .................. C=10.0, gamma=0.01, score=0.909, total=   0.0s\n",
      "[CV] C=10.0, gamma=0.01 ..............................................\n",
      "[CV] .................. C=10.0, gamma=0.01, score=0.952, total=   0.0s\n",
      "[CV] C=10.0, gamma=0.1 ...............................................\n",
      "[CV] ................... C=10.0, gamma=0.1, score=0.958, total=   0.0s\n",
      "[CV] C=10.0, gamma=0.1 ...............................................\n",
      "[CV] ................... C=10.0, gamma=0.1, score=0.957, total=   0.0s\n",
      "[CV] C=10.0, gamma=0.1 ...............................................\n",
      "[CV] ................... C=10.0, gamma=0.1, score=1.000, total=   0.0s\n",
      "[CV] C=10.0, gamma=0.1 ...............................................\n",
      "[CV] ................... C=10.0, gamma=0.1, score=0.955, total=   0.0s\n",
      "[CV] C=10.0, gamma=0.1 ...............................................\n",
      "[CV] ................... C=10.0, gamma=0.1, score=0.952, total=   0.0s\n",
      "[CV] C=100.0, gamma=1e-05 ............................................\n",
      "[CV] ................ C=100.0, gamma=1e-05, score=0.708, total=   0.0s\n",
      "[CV] C=100.0, gamma=1e-05 ............................................\n",
      "[CV] ................ C=100.0, gamma=1e-05, score=0.696, total=   0.0s\n",
      "[CV] C=100.0, gamma=1e-05 ............................................\n",
      "[CV] ................ C=100.0, gamma=1e-05, score=0.682, total=   0.0s\n",
      "[CV] C=100.0, gamma=1e-05 ............................................\n",
      "[CV] ................ C=100.0, gamma=1e-05, score=0.682, total=   0.0s\n",
      "[CV] C=100.0, gamma=1e-05 ............................................\n",
      "[CV] ................ C=100.0, gamma=1e-05, score=0.714, total=   0.0s\n",
      "[CV] C=100.0, gamma=0.0001 ...........................................\n",
      "[CV] ............... C=100.0, gamma=0.0001, score=0.875, total=   0.0s\n",
      "[CV] C=100.0, gamma=0.0001 ...........................................\n",
      "[CV] ............... C=100.0, gamma=0.0001, score=0.913, total=   0.0s\n",
      "[CV] C=100.0, gamma=0.0001 ...........................................\n",
      "[CV] ............... C=100.0, gamma=0.0001, score=1.000, total=   0.0s\n",
      "[CV] C=100.0, gamma=0.0001 ...........................................\n",
      "[CV] ............... C=100.0, gamma=0.0001, score=0.909, total=   0.0s\n",
      "[CV] C=100.0, gamma=0.0001 ...........................................\n",
      "[CV] ............... C=100.0, gamma=0.0001, score=0.952, total=   0.0s\n",
      "[CV] C=100.0, gamma=0.001 ............................................\n",
      "[CV] ................ C=100.0, gamma=0.001, score=1.000, total=   0.0s\n",
      "[CV] C=100.0, gamma=0.001 ............................................\n",
      "[CV] ................ C=100.0, gamma=0.001, score=0.957, total=   0.0s\n",
      "[CV] C=100.0, gamma=0.001 ............................................\n",
      "[CV] ................ C=100.0, gamma=0.001, score=1.000, total=   0.0s\n",
      "[CV] C=100.0, gamma=0.001 ............................................\n",
      "[CV] ................ C=100.0, gamma=0.001, score=0.909, total=   0.0s\n",
      "[CV] C=100.0, gamma=0.001 ............................................\n",
      "[CV] ................ C=100.0, gamma=0.001, score=0.952, total=   0.0s\n",
      "[CV] C=100.0, gamma=0.01 .............................................\n",
      "[CV] ................. C=100.0, gamma=0.01, score=1.000, total=   0.0s\n",
      "[CV] C=100.0, gamma=0.01 .............................................\n",
      "[CV] ................. C=100.0, gamma=0.01, score=0.957, total=   0.0s\n",
      "[CV] C=100.0, gamma=0.01 .............................................\n",
      "[CV] ................. C=100.0, gamma=0.01, score=1.000, total=   0.0s\n",
      "[CV] C=100.0, gamma=0.01 .............................................\n",
      "[CV] ................. C=100.0, gamma=0.01, score=0.955, total=   0.0s\n",
      "[CV] C=100.0, gamma=0.01 .............................................\n",
      "[CV] ................. C=100.0, gamma=0.01, score=0.952, total=   0.0s\n",
      "[CV] C=100.0, gamma=0.1 ..............................................\n",
      "[CV] .................. C=100.0, gamma=0.1, score=0.958, total=   0.0s\n",
      "[CV] C=100.0, gamma=0.1 ..............................................\n",
      "[CV] .................. C=100.0, gamma=0.1, score=1.000, total=   0.0s\n",
      "[CV] C=100.0, gamma=0.1 ..............................................\n",
      "[CV] .................. C=100.0, gamma=0.1, score=1.000, total=   0.0s\n",
      "[CV] C=100.0, gamma=0.1 ..............................................\n",
      "[CV] .................. C=100.0, gamma=0.1, score=0.864, total=   0.0s\n",
      "[CV] C=100.0, gamma=0.1 ..............................................\n",
      "[CV] .................. C=100.0, gamma=0.1, score=0.952, total=   0.0s\n"
     ]
    },
    {
     "name": "stderr",
     "output_type": "stream",
     "text": [
      "[Parallel(n_jobs=1)]: Done 150 out of 150 | elapsed:    0.3s finished\n",
      "/Volumes/DataHD/Users/phermar/anaconda3/envs/aprendiz-ml/lib/python3.7/site-packages/sklearn/model_selection/_search.py:813: DeprecationWarning: The default of the `iid` parameter will change from True to False in version 0.22 and will be removed in 0.24. This will change numeric results when test-set sizes are unequal.\n",
      "  DeprecationWarning)\n"
     ]
    },
    {
     "data": {
      "text/plain": [
       "GridSearchCV(cv=5, error_score='raise-deprecating',\n",
       "             estimator=SVC(C=1.0, cache_size=200, class_weight=None, coef0=0.0,\n",
       "                           decision_function_shape='ovr', degree=3,\n",
       "                           gamma='auto_deprecated', kernel='rbf', max_iter=-1,\n",
       "                           probability=False, random_state=None, shrinking=True,\n",
       "                           tol=0.001, verbose=False),\n",
       "             iid='warn', n_jobs=None,\n",
       "             param_grid={'C': array([  0.001,   0.01 ,   0.1  ,   1.   ,  10.   , 100.   ]),\n",
       "                         'gamma': array([0.00001, 0.0001 , 0.001  , 0.01   , 0.1    ])},\n",
       "             pre_dispatch='2*n_jobs', refit=True, return_train_score=False,\n",
       "             scoring=None, verbose=3)"
      ]
     },
     "execution_count": 24,
     "metadata": {},
     "output_type": "execute_result"
    }
   ],
   "source": [
    "grid_search.fit(X_train, y_train)"
   ]
  },
  {
   "cell_type": "code",
   "execution_count": 25,
   "metadata": {},
   "outputs": [
    {
     "data": {
      "text/plain": [
       "array([2, 1, 0, 2, 0, 2, 0, 1, 1, 1, 2, 1, 1, 1, 1, 0, 1, 1, 0, 0, 2, 1,\n",
       "       0, 0, 2, 0, 0, 1, 1, 0, 2, 1, 0, 2, 2, 1, 0, 2])"
      ]
     },
     "execution_count": 25,
     "metadata": {},
     "output_type": "execute_result"
    }
   ],
   "source": [
    "grid_search.predict(X_test)"
   ]
  },
  {
   "cell_type": "code",
   "execution_count": 26,
   "metadata": {},
   "outputs": [
    {
     "data": {
      "text/plain": [
       "0.9736842105263158"
      ]
     },
     "execution_count": 26,
     "metadata": {},
     "output_type": "execute_result"
    }
   ],
   "source": [
    "grid_search.score(X_test, y_test)"
   ]
  },
  {
   "cell_type": "code",
   "execution_count": 27,
   "metadata": {},
   "outputs": [
    {
     "data": {
      "text/plain": [
       "{'C': 100.0, 'gamma': 0.01}"
      ]
     },
     "execution_count": 27,
     "metadata": {},
     "output_type": "execute_result"
    }
   ],
   "source": [
    "grid_search.best_params_"
   ]
  },
  {
   "cell_type": "code",
   "execution_count": 28,
   "metadata": {},
   "outputs": [
    {
     "data": {
      "text/plain": [
       "0.9732142857142857"
      ]
     },
     "execution_count": 28,
     "metadata": {},
     "output_type": "execute_result"
    }
   ],
   "source": [
    "grid_search.best_score_"
   ]
  },
  {
   "cell_type": "code",
   "execution_count": 29,
   "metadata": {},
   "outputs": [
    {
     "data": {
      "text/plain": [
       "SVC(C=100.0, cache_size=200, class_weight=None, coef0=0.0,\n",
       "    decision_function_shape='ovr', degree=3, gamma=0.01, kernel='rbf',\n",
       "    max_iter=-1, probability=False, random_state=None, shrinking=True,\n",
       "    tol=0.001, verbose=False)"
      ]
     },
     "execution_count": 29,
     "metadata": {},
     "output_type": "execute_result"
    }
   ],
   "source": [
    "grid_search.best_estimator_"
   ]
  },
  {
   "cell_type": "code",
   "execution_count": 30,
   "metadata": {},
   "outputs": [
    {
     "data": {
      "image/png": "[encoded data removed]",
      "text/plain": [
       "<Figure size 288x345.6 with 2 Axes>"
      ]
     },
     "metadata": {
      "needs_background": "light"
     },
     "output_type": "display_data"
    }
   ],
   "source": [
    "# We extract just the scores\n",
    "\n",
    "scores = grid_search.cv_results_['mean_test_score']\n",
    "scores = np.array(scores).reshape(6, 5)\n",
    "\n",
    "plt.matshow(scores)\n",
    "plt.xlabel('gamma')\n",
    "plt.ylabel('C')\n",
    "plt.colorbar()\n",
    "plt.xticks(np.arange(5), param_grid['gamma'])\n",
    "plt.yticks(np.arange(6), param_grid['C']);"
   ]
  }
 ],
 "metadata": {
  "anaconda-cloud": {},
  "kernelspec": {
   "display_name": "Python 3",
   "language": "python",
   "name": "python3"
  },
  "language_info": {
   "codemirror_mode": {
    "name": "ipython",
    "version": 3
   },
   "file_extension": ".py",
   "mimetype": "text/x-python",
   "name": "python",
   "nbconvert_exporter": "python",
   "pygments_lexer": "ipython3",
   "version": "3.7.3"
  }
 },
 "nbformat": 4,
 "nbformat_minor": 2
}
