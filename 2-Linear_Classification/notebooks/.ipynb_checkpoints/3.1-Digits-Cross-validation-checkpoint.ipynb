{
 "cells": [
  {
   "cell_type": "markdown",
   "metadata": {},
   "source": [
    "# Digits - Cross-validation"
   ]
  },
  {
   "cell_type": "markdown",
   "metadata": {},
   "source": [
    "## Import Libraries"
   ]
  },
  {
   "cell_type": "code",
   "execution_count": 1,
   "metadata": {},
   "outputs": [],
   "source": [
    "import numpy as np\n",
    "import matplotlib.pyplot as plt\n",
    "%matplotlib inline\n",
    "\n",
    "from sklearn.datasets import load_digits\n",
    "from sklearn.model_selection import train_test_split\n",
    "from sklearn.model_selection import cross_val_score\n",
    "from sklearn.model_selection import GridSearchCV\n",
    "from sklearn.neighbors import KNeighborsClassifier\n",
    "from sklearn.svm import SVC"
   ]
  },
  {
   "cell_type": "markdown",
   "metadata": {},
   "source": [
    "## Data Loading"
   ]
  },
  {
   "cell_type": "code",
   "execution_count": 2,
   "metadata": {},
   "outputs": [],
   "source": [
    "digits = load_digits()"
   ]
  },
  {
   "cell_type": "markdown",
   "metadata": {},
   "source": [
    "## Data Splitting"
   ]
  },
  {
   "cell_type": "code",
   "execution_count": 3,
   "metadata": {},
   "outputs": [],
   "source": [
    "X_train, X_test, y_train, y_test = train_test_split(\n",
    "    digits.data, digits.target)"
   ]
  },
  {
   "cell_type": "markdown",
   "metadata": {},
   "source": [
    "## Cross-Validation"
   ]
  },
  {
   "cell_type": "code",
   "execution_count": 4,
   "metadata": {},
   "outputs": [
    {
     "data": {
      "text/plain": [
       "array([0.98534799, 0.98148148, 0.9739777 , 0.98507463, 0.98876404])"
      ]
     },
     "execution_count": 4,
     "metadata": {},
     "output_type": "execute_result"
    }
   ],
   "source": [
    "cross_val_score(KNeighborsClassifier(),\n",
    "                X_train, y_train, cv=5)"
   ]
  },
  {
   "cell_type": "code",
   "execution_count": 5,
   "metadata": {},
   "outputs": [],
   "source": [
    "from sklearn.model_selection import KFold, RepeatedStratifiedKFold"
   ]
  },
  {
   "cell_type": "code",
   "execution_count": 6,
   "metadata": {},
   "outputs": [
    {
     "data": {
      "text/plain": [
       "array([0.99259259, 0.97777778, 0.97777778, 0.98518519, 0.98518519,\n",
       "       1.        , 0.98518519, 0.98507463, 0.97761194, 0.99253731])"
      ]
     },
     "execution_count": 6,
     "metadata": {},
     "output_type": "execute_result"
    }
   ],
   "source": [
    "cross_val_score(KNeighborsClassifier(),\n",
    "                X_train, y_train, cv=KFold(n_splits=10, shuffle=True, random_state=42))"
   ]
  },
  {
   "cell_type": "code",
   "execution_count": 7,
   "metadata": {},
   "outputs": [
    {
     "data": {
      "text/plain": [
       "array([0.97826087, 0.99264706, 0.99264706, 0.99264706, 0.98518519,\n",
       "       0.98518519, 0.97761194, 0.96992481, 0.98484848, 1.        ,\n",
       "       0.97101449, 0.97058824, 0.99264706, 1.        , 0.98518519,\n",
       "       0.99259259, 0.98507463, 0.97744361, 0.98484848, 1.        ,\n",
       "       0.98550725, 0.97794118, 1.        , 0.97794118, 0.97777778,\n",
       "       0.99259259, 0.97014925, 0.98496241, 0.98484848, 1.        ,\n",
       "       0.98550725, 1.        , 0.99264706, 0.99264706, 0.99259259,\n",
       "       0.98518519, 1.        , 0.96992481, 0.96212121, 0.98484848,\n",
       "       0.98550725, 0.98529412, 0.98529412, 0.98529412, 0.98518519,\n",
       "       1.        , 0.98507463, 0.9924812 , 0.98484848, 0.99242424,\n",
       "       0.98550725, 0.99264706, 0.99264706, 0.99264706, 0.98518519,\n",
       "       0.98518519, 0.99253731, 1.        , 0.97727273, 0.96969697,\n",
       "       0.99275362, 0.97794118, 0.97794118, 1.        , 0.99259259,\n",
       "       0.98518519, 0.99253731, 1.        , 0.97727273, 0.98484848,\n",
       "       0.98550725, 0.98529412, 0.99264706, 0.97794118, 0.98518519,\n",
       "       0.97777778, 1.        , 0.97744361, 1.        , 0.98484848,\n",
       "       0.99275362, 0.97794118, 0.99264706, 0.98529412, 0.98518519,\n",
       "       0.98518519, 0.98507463, 0.9924812 , 0.99242424, 1.        ,\n",
       "       1.        , 0.98529412, 0.99264706, 0.97794118, 0.98518519,\n",
       "       0.97777778, 0.99253731, 0.97744361, 0.99242424, 0.99242424])"
      ]
     },
     "execution_count": 7,
     "metadata": {},
     "output_type": "execute_result"
    }
   ],
   "source": [
    "cross_val_score(KNeighborsClassifier(),\n",
    "                X_train, y_train,\n",
    "                cv=RepeatedStratifiedKFold(n_splits=10, n_repeats=10, random_state=42))"
   ]
  },
  {
   "cell_type": "markdown",
   "metadata": {},
   "source": [
    "## Grid Searches with Cross-Validation for K-Neighbors"
   ]
  },
  {
   "cell_type": "markdown",
   "metadata": {},
   "source": [
    "### Define Parameter Grid"
   ]
  },
  {
   "cell_type": "code",
   "execution_count": 8,
   "metadata": {},
   "outputs": [],
   "source": [
    "param_grid = {'n_neighbors': [1, 3, 5, 7, 10]}"
   ]
  },
  {
   "cell_type": "markdown",
   "metadata": {},
   "source": [
    "### Create & Fit Model GridSearchCV"
   ]
  },
  {
   "cell_type": "code",
   "execution_count": 9,
   "metadata": {},
   "outputs": [],
   "source": [
    "grid = GridSearchCV(KNeighborsClassifier(), param_grid=param_grid,\n",
    "                    return_train_score=True, cv=5)"
   ]
  },
  {
   "cell_type": "code",
   "execution_count": 10,
   "metadata": {},
   "outputs": [
    {
     "data": {
      "text/plain": [
       "GridSearchCV(cv=5, error_score='raise-deprecating',\n",
       "             estimator=KNeighborsClassifier(algorithm='auto', leaf_size=30,\n",
       "                                            metric='minkowski',\n",
       "                                            metric_params=None, n_jobs=None,\n",
       "                                            n_neighbors=5, p=2,\n",
       "                                            weights='uniform'),\n",
       "             iid='warn', n_jobs=None,\n",
       "             param_grid={'n_neighbors': [1, 3, 5, 7, 10]},\n",
       "             pre_dispatch='2*n_jobs', refit=True, return_train_score=True,\n",
       "             scoring=None, verbose=0)"
      ]
     },
     "execution_count": 10,
     "metadata": {},
     "output_type": "execute_result"
    }
   ],
   "source": [
    "grid.fit(X_train, y_train)"
   ]
  },
  {
   "cell_type": "markdown",
   "metadata": {},
   "source": [
    "### Get Results"
   ]
  },
  {
   "cell_type": "code",
   "execution_count": 11,
   "metadata": {},
   "outputs": [
    {
     "data": {
      "text/plain": [
       "{'n_neighbors': 1}"
      ]
     },
     "execution_count": 11,
     "metadata": {},
     "output_type": "execute_result"
    }
   ],
   "source": [
    "grid.best_params_"
   ]
  },
  {
   "cell_type": "code",
   "execution_count": 12,
   "metadata": {},
   "outputs": [
    {
     "data": {
      "text/plain": [
       "KNeighborsClassifier(algorithm='auto', leaf_size=30, metric='minkowski',\n",
       "                     metric_params=None, n_jobs=None, n_neighbors=1, p=2,\n",
       "                     weights='uniform')"
      ]
     },
     "execution_count": 12,
     "metadata": {},
     "output_type": "execute_result"
    }
   ],
   "source": [
    "grid.best_estimator_"
   ]
  },
  {
   "cell_type": "code",
   "execution_count": 13,
   "metadata": {},
   "outputs": [
    {
     "data": {
      "text/plain": [
       "1.0"
      ]
     },
     "execution_count": 13,
     "metadata": {},
     "output_type": "execute_result"
    }
   ],
   "source": [
    "grid.score(X_train, y_train)"
   ]
  },
  {
   "cell_type": "code",
   "execution_count": 14,
   "metadata": {},
   "outputs": [
    {
     "data": {
      "text/plain": [
       "0.9866666666666667"
      ]
     },
     "execution_count": 14,
     "metadata": {},
     "output_type": "execute_result"
    }
   ],
   "source": [
    "grid.score(X_test, y_test)"
   ]
  },
  {
   "cell_type": "code",
   "execution_count": 15,
   "metadata": {},
   "outputs": [],
   "source": [
    "results = grid.cv_results_"
   ]
  },
  {
   "cell_type": "code",
   "execution_count": 16,
   "metadata": {},
   "outputs": [
    {
     "data": {
      "text/plain": [
       "<matplotlib.legend.Legend at 0x1a1d8bb5c0>"
      ]
     },
     "execution_count": 16,
     "metadata": {},
     "output_type": "execute_result"
    },
    {
     "data": {
      "image/png": "[encoded data removed]",
      "text/plain": [
       "<Figure size 432x288 with 1 Axes>"
      ]
     },
     "metadata": {
      "needs_background": "light"
     },
     "output_type": "display_data"
    }
   ],
   "source": [
    "plt.plot(param_grid['n_neighbors'], results['mean_train_score'], \n",
    "         label=\"train\")\n",
    "plt.plot(param_grid['n_neighbors'], results['mean_test_score'], \n",
    "         label=\"test\")\n",
    "plt.legend()"
   ]
  },
  {
   "cell_type": "markdown",
   "metadata": {},
   "source": [
    "## Grid Searches with Cross Validation for SVC"
   ]
  },
  {
   "cell_type": "markdown",
   "metadata": {},
   "source": [
    "### Define Parameter Grid"
   ]
  },
  {
   "cell_type": "code",
   "execution_count": 17,
   "metadata": {},
   "outputs": [
    {
     "name": "stdout",
     "output_type": "stream",
     "text": [
      "{'C': array([  0.001,   0.01 ,   0.1  ,   1.   ,  10.   , 100.   ]), 'gamma': array([0.00001, 0.0001 , 0.001  , 0.01   , 0.1    ])}\n"
     ]
    }
   ],
   "source": [
    "param_grid = {'C': 10. ** np.arange(-3, 3),\n",
    "              'gamma' : 10. ** np.arange(-5, 0)}\n",
    "np.set_printoptions(suppress=True)\n",
    "print(param_grid)"
   ]
  },
  {
   "cell_type": "markdown",
   "metadata": {},
   "source": [
    "### Create & Fit Model GridSearchCV"
   ]
  },
  {
   "cell_type": "code",
   "execution_count": 18,
   "metadata": {},
   "outputs": [],
   "source": [
    "grid_search = GridSearchCV(SVC(), param_grid, verbose=3, cv=5)"
   ]
  },
  {
   "cell_type": "code",
   "execution_count": 19,
   "metadata": {},
   "outputs": [
    {
     "name": "stdout",
     "output_type": "stream",
     "text": [
      "Fitting 5 folds for each of 30 candidates, totalling 150 fits\n",
      "[CV] C=0.001, gamma=1e-05 ............................................\n"
     ]
    },
    {
     "name": "stderr",
     "output_type": "stream",
     "text": [
      "[Parallel(n_jobs=1)]: Using backend SequentialBackend with 1 concurrent workers.\n"
     ]
    },
    {
     "name": "stdout",
     "output_type": "stream",
     "text": [
      "[CV] ................ C=0.001, gamma=1e-05, score=0.106, total=   0.2s\n",
      "[CV] C=0.001, gamma=1e-05 ............................................\n"
     ]
    },
    {
     "name": "stderr",
     "output_type": "stream",
     "text": [
      "[Parallel(n_jobs=1)]: Done   1 out of   1 | elapsed:    0.2s remaining:    0.0s\n"
     ]
    },
    {
     "name": "stdout",
     "output_type": "stream",
     "text": [
      "[CV] ................ C=0.001, gamma=1e-05, score=0.107, total=   0.2s\n",
      "[CV] C=0.001, gamma=1e-05 ............................................\n"
     ]
    },
    {
     "name": "stderr",
     "output_type": "stream",
     "text": [
      "[Parallel(n_jobs=1)]: Done   2 out of   2 | elapsed:    0.4s remaining:    0.0s\n"
     ]
    },
    {
     "name": "stdout",
     "output_type": "stream",
     "text": [
      "[CV] ................ C=0.001, gamma=1e-05, score=0.108, total=   0.2s\n",
      "[CV] C=0.001, gamma=1e-05 ............................................\n",
      "[CV] ................ C=0.001, gamma=1e-05, score=0.108, total=   0.2s\n",
      "[CV] C=0.001, gamma=1e-05 ............................................\n",
      "[CV] ................ C=0.001, gamma=1e-05, score=0.105, total=   0.2s\n",
      "[CV] C=0.001, gamma=0.0001 ...........................................\n",
      "[CV] ............... C=0.001, gamma=0.0001, score=0.106, total=   0.2s\n",
      "[CV] C=0.001, gamma=0.0001 ...........................................\n",
      "[CV] ............... C=0.001, gamma=0.0001, score=0.107, total=   0.2s\n",
      "[CV] C=0.001, gamma=0.0001 ...........................................\n",
      "[CV] ............... C=0.001, gamma=0.0001, score=0.108, total=   0.2s\n",
      "[CV] C=0.001, gamma=0.0001 ...........................................\n",
      "[CV] ............... C=0.001, gamma=0.0001, score=0.108, total=   0.2s\n",
      "[CV] C=0.001, gamma=0.0001 ...........................................\n",
      "[CV] ............... C=0.001, gamma=0.0001, score=0.105, total=   0.2s\n",
      "[CV] C=0.001, gamma=0.001 ............................................\n",
      "[CV] ................ C=0.001, gamma=0.001, score=0.106, total=   0.2s\n",
      "[CV] C=0.001, gamma=0.001 ............................................\n",
      "[CV] ................ C=0.001, gamma=0.001, score=0.107, total=   0.2s\n",
      "[CV] C=0.001, gamma=0.001 ............................................\n",
      "[CV] ................ C=0.001, gamma=0.001, score=0.108, total=   0.3s\n",
      "[CV] C=0.001, gamma=0.001 ............................................\n",
      "[CV] ................ C=0.001, gamma=0.001, score=0.108, total=   0.3s\n",
      "[CV] C=0.001, gamma=0.001 ............................................\n",
      "[CV] ................ C=0.001, gamma=0.001, score=0.105, total=   0.3s\n",
      "[CV] C=0.001, gamma=0.01 .............................................\n",
      "[CV] ................. C=0.001, gamma=0.01, score=0.106, total=   0.3s\n",
      "[CV] C=0.001, gamma=0.01 .............................................\n",
      "[CV] ................. C=0.001, gamma=0.01, score=0.107, total=   0.3s\n",
      "[CV] C=0.001, gamma=0.01 .............................................\n",
      "[CV] ................. C=0.001, gamma=0.01, score=0.108, total=   0.2s\n",
      "[CV] C=0.001, gamma=0.01 .............................................\n",
      "[CV] ................. C=0.001, gamma=0.01, score=0.108, total=   0.2s\n",
      "[CV] C=0.001, gamma=0.01 .............................................\n",
      "[CV] ................. C=0.001, gamma=0.01, score=0.105, total=   0.2s\n",
      "[CV] C=0.001, gamma=0.1 ..............................................\n",
      "[CV] .................. C=0.001, gamma=0.1, score=0.106, total=   0.2s\n",
      "[CV] C=0.001, gamma=0.1 ..............................................\n",
      "[CV] .................. C=0.001, gamma=0.1, score=0.107, total=   0.2s\n",
      "[CV] C=0.001, gamma=0.1 ..............................................\n",
      "[CV] .................. C=0.001, gamma=0.1, score=0.108, total=   0.2s\n",
      "[CV] C=0.001, gamma=0.1 ..............................................\n",
      "[CV] .................. C=0.001, gamma=0.1, score=0.108, total=   0.2s\n",
      "[CV] C=0.001, gamma=0.1 ..............................................\n",
      "[CV] .................. C=0.001, gamma=0.1, score=0.105, total=   0.2s\n",
      "[CV] C=0.01, gamma=1e-05 .............................................\n",
      "[CV] ................. C=0.01, gamma=1e-05, score=0.106, total=   0.2s\n",
      "[CV] C=0.01, gamma=1e-05 .............................................\n",
      "[CV] ................. C=0.01, gamma=1e-05, score=0.107, total=   0.3s\n",
      "[CV] C=0.01, gamma=1e-05 .............................................\n",
      "[CV] ................. C=0.01, gamma=1e-05, score=0.108, total=   0.3s\n",
      "[CV] C=0.01, gamma=1e-05 .............................................\n",
      "[CV] ................. C=0.01, gamma=1e-05, score=0.108, total=   0.3s\n",
      "[CV] C=0.01, gamma=1e-05 .............................................\n",
      "[CV] ................. C=0.01, gamma=1e-05, score=0.105, total=   0.2s\n",
      "[CV] C=0.01, gamma=0.0001 ............................................\n",
      "[CV] ................ C=0.01, gamma=0.0001, score=0.106, total=   0.2s\n",
      "[CV] C=0.01, gamma=0.0001 ............................................\n",
      "[CV] ................ C=0.01, gamma=0.0001, score=0.107, total=   0.2s\n",
      "[CV] C=0.01, gamma=0.0001 ............................................\n",
      "[CV] ................ C=0.01, gamma=0.0001, score=0.108, total=   0.2s\n",
      "[CV] C=0.01, gamma=0.0001 ............................................\n",
      "[CV] ................ C=0.01, gamma=0.0001, score=0.108, total=   0.3s\n",
      "[CV] C=0.01, gamma=0.0001 ............................................\n",
      "[CV] ................ C=0.01, gamma=0.0001, score=0.105, total=   0.2s\n",
      "[CV] C=0.01, gamma=0.001 .............................................\n",
      "[CV] ................. C=0.01, gamma=0.001, score=0.106, total=   0.2s\n",
      "[CV] C=0.01, gamma=0.001 .............................................\n",
      "[CV] ................. C=0.01, gamma=0.001, score=0.107, total=   0.3s\n",
      "[CV] C=0.01, gamma=0.001 .............................................\n",
      "[CV] ................. C=0.01, gamma=0.001, score=0.108, total=   0.2s\n",
      "[CV] C=0.01, gamma=0.001 .............................................\n",
      "[CV] ................. C=0.01, gamma=0.001, score=0.108, total=   0.2s\n",
      "[CV] C=0.01, gamma=0.001 .............................................\n",
      "[CV] ................. C=0.01, gamma=0.001, score=0.105, total=   0.2s\n",
      "[CV] C=0.01, gamma=0.01 ..............................................\n",
      "[CV] .................. C=0.01, gamma=0.01, score=0.106, total=   0.2s\n",
      "[CV] C=0.01, gamma=0.01 ..............................................\n",
      "[CV] .................. C=0.01, gamma=0.01, score=0.107, total=   0.2s\n",
      "[CV] C=0.01, gamma=0.01 ..............................................\n",
      "[CV] .................. C=0.01, gamma=0.01, score=0.108, total=   0.3s\n",
      "[CV] C=0.01, gamma=0.01 ..............................................\n",
      "[CV] .................. C=0.01, gamma=0.01, score=0.108, total=   0.2s\n",
      "[CV] C=0.01, gamma=0.01 ..............................................\n",
      "[CV] .................. C=0.01, gamma=0.01, score=0.105, total=   0.2s\n",
      "[CV] C=0.01, gamma=0.1 ...............................................\n",
      "[CV] ................... C=0.01, gamma=0.1, score=0.106, total=   0.3s\n",
      "[CV] C=0.01, gamma=0.1 ...............................................\n",
      "[CV] ................... C=0.01, gamma=0.1, score=0.107, total=   0.2s\n",
      "[CV] C=0.01, gamma=0.1 ...............................................\n",
      "[CV] ................... C=0.01, gamma=0.1, score=0.108, total=   0.2s\n",
      "[CV] C=0.01, gamma=0.1 ...............................................\n",
      "[CV] ................... C=0.01, gamma=0.1, score=0.108, total=   0.3s\n",
      "[CV] C=0.01, gamma=0.1 ...............................................\n",
      "[CV] ................... C=0.01, gamma=0.1, score=0.105, total=   0.2s\n",
      "[CV] C=0.1, gamma=1e-05 ..............................................\n",
      "[CV] .................. C=0.1, gamma=1e-05, score=0.106, total=   0.2s\n",
      "[CV] C=0.1, gamma=1e-05 ..............................................\n",
      "[CV] .................. C=0.1, gamma=1e-05, score=0.107, total=   0.2s\n",
      "[CV] C=0.1, gamma=1e-05 ..............................................\n",
      "[CV] .................. C=0.1, gamma=1e-05, score=0.108, total=   0.2s\n",
      "[CV] C=0.1, gamma=1e-05 ..............................................\n",
      "[CV] .................. C=0.1, gamma=1e-05, score=0.108, total=   0.2s\n",
      "[CV] C=0.1, gamma=1e-05 ..............................................\n",
      "[CV] .................. C=0.1, gamma=1e-05, score=0.105, total=   0.2s\n",
      "[CV] C=0.1, gamma=0.0001 .............................................\n",
      "[CV] ................. C=0.1, gamma=0.0001, score=0.879, total=   0.2s\n",
      "[CV] C=0.1, gamma=0.0001 .............................................\n",
      "[CV] ................. C=0.1, gamma=0.0001, score=0.841, total=   0.2s\n",
      "[CV] C=0.1, gamma=0.0001 .............................................\n",
      "[CV] ................. C=0.1, gamma=0.0001, score=0.888, total=   0.2s\n",
      "[CV] C=0.1, gamma=0.0001 .............................................\n",
      "[CV] ................. C=0.1, gamma=0.0001, score=0.892, total=   0.2s\n",
      "[CV] C=0.1, gamma=0.0001 .............................................\n",
      "[CV] ................. C=0.1, gamma=0.0001, score=0.914, total=   0.2s\n",
      "[CV] C=0.1, gamma=0.001 ..............................................\n"
     ]
    },
    {
     "name": "stdout",
     "output_type": "stream",
     "text": [
      "[CV] .................. C=0.1, gamma=0.001, score=0.963, total=   0.1s\n",
      "[CV] C=0.1, gamma=0.001 ..............................................\n",
      "[CV] .................. C=0.1, gamma=0.001, score=0.952, total=   0.1s\n",
      "[CV] C=0.1, gamma=0.001 ..............................................\n",
      "[CV] .................. C=0.1, gamma=0.001, score=0.952, total=   0.1s\n",
      "[CV] C=0.1, gamma=0.001 ..............................................\n",
      "[CV] .................. C=0.1, gamma=0.001, score=0.963, total=   0.1s\n",
      "[CV] C=0.1, gamma=0.001 ..............................................\n",
      "[CV] .................. C=0.1, gamma=0.001, score=0.966, total=   0.1s\n",
      "[CV] C=0.1, gamma=0.01 ...............................................\n",
      "[CV] ................... C=0.1, gamma=0.01, score=0.106, total=   0.2s\n",
      "[CV] C=0.1, gamma=0.01 ...............................................\n",
      "[CV] ................... C=0.1, gamma=0.01, score=0.107, total=   0.2s\n",
      "[CV] C=0.1, gamma=0.01 ...............................................\n",
      "[CV] ................... C=0.1, gamma=0.01, score=0.108, total=   0.2s\n",
      "[CV] C=0.1, gamma=0.01 ...............................................\n",
      "[CV] ................... C=0.1, gamma=0.01, score=0.108, total=   0.2s\n",
      "[CV] C=0.1, gamma=0.01 ...............................................\n",
      "[CV] ................... C=0.1, gamma=0.01, score=0.105, total=   0.2s\n",
      "[CV] C=0.1, gamma=0.1 ................................................\n",
      "[CV] .................... C=0.1, gamma=0.1, score=0.106, total=   0.3s\n",
      "[CV] C=0.1, gamma=0.1 ................................................\n",
      "[CV] .................... C=0.1, gamma=0.1, score=0.107, total=   0.3s\n",
      "[CV] C=0.1, gamma=0.1 ................................................\n",
      "[CV] .................... C=0.1, gamma=0.1, score=0.108, total=   0.3s\n",
      "[CV] C=0.1, gamma=0.1 ................................................\n",
      "[CV] .................... C=0.1, gamma=0.1, score=0.108, total=   0.3s\n",
      "[CV] C=0.1, gamma=0.1 ................................................\n",
      "[CV] .................... C=0.1, gamma=0.1, score=0.105, total=   0.3s\n",
      "[CV] C=1.0, gamma=1e-05 ..............................................\n",
      "[CV] .................. C=1.0, gamma=1e-05, score=0.886, total=   0.2s\n",
      "[CV] C=1.0, gamma=1e-05 ..............................................\n",
      "[CV] .................. C=1.0, gamma=1e-05, score=0.844, total=   0.2s\n",
      "[CV] C=1.0, gamma=1e-05 ..............................................\n",
      "[CV] .................. C=1.0, gamma=1e-05, score=0.907, total=   0.2s\n",
      "[CV] C=1.0, gamma=1e-05 ..............................................\n",
      "[CV] .................. C=1.0, gamma=1e-05, score=0.899, total=   0.2s\n",
      "[CV] C=1.0, gamma=1e-05 ..............................................\n",
      "[CV] .................. C=1.0, gamma=1e-05, score=0.910, total=   0.2s\n",
      "[CV] C=1.0, gamma=0.0001 .............................................\n",
      "[CV] ................. C=1.0, gamma=0.0001, score=0.967, total=   0.1s\n",
      "[CV] C=1.0, gamma=0.0001 .............................................\n",
      "[CV] ................. C=1.0, gamma=0.0001, score=0.963, total=   0.1s\n",
      "[CV] C=1.0, gamma=0.0001 .............................................\n",
      "[CV] ................. C=1.0, gamma=0.0001, score=0.963, total=   0.1s\n",
      "[CV] C=1.0, gamma=0.0001 .............................................\n",
      "[CV] ................. C=1.0, gamma=0.0001, score=0.978, total=   0.1s\n",
      "[CV] C=1.0, gamma=0.0001 .............................................\n",
      "[CV] ................. C=1.0, gamma=0.0001, score=0.970, total=   0.1s\n",
      "[CV] C=1.0, gamma=0.001 ..............................................\n",
      "[CV] .................. C=1.0, gamma=0.001, score=0.989, total=   0.1s\n",
      "[CV] C=1.0, gamma=0.001 ..............................................\n",
      "[CV] .................. C=1.0, gamma=0.001, score=0.985, total=   0.1s\n",
      "[CV] C=1.0, gamma=0.001 ..............................................\n",
      "[CV] .................. C=1.0, gamma=0.001, score=0.985, total=   0.1s\n",
      "[CV] C=1.0, gamma=0.001 ..............................................\n",
      "[CV] .................. C=1.0, gamma=0.001, score=0.989, total=   0.1s\n",
      "[CV] C=1.0, gamma=0.001 ..............................................\n",
      "[CV] .................. C=1.0, gamma=0.001, score=0.989, total=   0.1s\n",
      "[CV] C=1.0, gamma=0.01 ...............................................\n",
      "[CV] ................... C=1.0, gamma=0.01, score=0.777, total=   0.3s\n",
      "[CV] C=1.0, gamma=0.01 ...............................................\n",
      "[CV] ................... C=1.0, gamma=0.01, score=0.804, total=   0.3s\n",
      "[CV] C=1.0, gamma=0.01 ...............................................\n",
      "[CV] ................... C=1.0, gamma=0.01, score=0.729, total=   0.3s\n",
      "[CV] C=1.0, gamma=0.01 ...............................................\n",
      "[CV] ................... C=1.0, gamma=0.01, score=0.799, total=   0.3s\n",
      "[CV] C=1.0, gamma=0.01 ...............................................\n",
      "[CV] ................... C=1.0, gamma=0.01, score=0.813, total=   0.3s\n",
      "[CV] C=1.0, gamma=0.1 ................................................\n",
      "[CV] .................... C=1.0, gamma=0.1, score=0.106, total=   0.3s\n",
      "[CV] C=1.0, gamma=0.1 ................................................\n",
      "[CV] .................... C=1.0, gamma=0.1, score=0.107, total=   0.4s\n",
      "[CV] C=1.0, gamma=0.1 ................................................\n",
      "[CV] .................... C=1.0, gamma=0.1, score=0.108, total=   0.4s\n",
      "[CV] C=1.0, gamma=0.1 ................................................\n",
      "[CV] .................... C=1.0, gamma=0.1, score=0.108, total=   0.4s\n",
      "[CV] C=1.0, gamma=0.1 ................................................\n",
      "[CV] .................... C=1.0, gamma=0.1, score=0.105, total=   0.3s\n",
      "[CV] C=10.0, gamma=1e-05 .............................................\n",
      "[CV] ................. C=10.0, gamma=1e-05, score=0.963, total=   0.1s\n",
      "[CV] C=10.0, gamma=1e-05 .............................................\n",
      "[CV] ................. C=10.0, gamma=1e-05, score=0.959, total=   0.1s\n",
      "[CV] C=10.0, gamma=1e-05 .............................................\n",
      "[CV] ................. C=10.0, gamma=1e-05, score=0.959, total=   0.1s\n",
      "[CV] C=10.0, gamma=1e-05 .............................................\n",
      "[CV] ................. C=10.0, gamma=1e-05, score=0.970, total=   0.1s\n",
      "[CV] C=10.0, gamma=1e-05 .............................................\n",
      "[CV] ................. C=10.0, gamma=1e-05, score=0.966, total=   0.1s\n",
      "[CV] C=10.0, gamma=0.0001 ............................................\n",
      "[CV] ................ C=10.0, gamma=0.0001, score=0.993, total=   0.1s\n",
      "[CV] C=10.0, gamma=0.0001 ............................................\n",
      "[CV] ................ C=10.0, gamma=0.0001, score=0.978, total=   0.1s\n",
      "[CV] C=10.0, gamma=0.0001 ............................................\n",
      "[CV] ................ C=10.0, gamma=0.0001, score=0.978, total=   0.1s\n",
      "[CV] C=10.0, gamma=0.0001 ............................................\n",
      "[CV] ................ C=10.0, gamma=0.0001, score=0.989, total=   0.1s\n",
      "[CV] C=10.0, gamma=0.0001 ............................................\n",
      "[CV] ................ C=10.0, gamma=0.0001, score=0.989, total=   0.1s\n",
      "[CV] C=10.0, gamma=0.001 .............................................\n",
      "[CV] ................. C=10.0, gamma=0.001, score=0.993, total=   0.1s\n",
      "[CV] C=10.0, gamma=0.001 .............................................\n",
      "[CV] ................. C=10.0, gamma=0.001, score=0.985, total=   0.1s\n",
      "[CV] C=10.0, gamma=0.001 .............................................\n",
      "[CV] ................. C=10.0, gamma=0.001, score=0.981, total=   0.1s\n",
      "[CV] C=10.0, gamma=0.001 .............................................\n",
      "[CV] ................. C=10.0, gamma=0.001, score=0.989, total=   0.1s\n",
      "[CV] C=10.0, gamma=0.001 .............................................\n",
      "[CV] ................. C=10.0, gamma=0.001, score=0.989, total=   0.1s\n",
      "[CV] C=10.0, gamma=0.01 ..............................................\n",
      "[CV] .................. C=10.0, gamma=0.01, score=0.777, total=   0.3s\n",
      "[CV] C=10.0, gamma=0.01 ..............................................\n",
      "[CV] .................. C=10.0, gamma=0.01, score=0.822, total=   0.3s\n",
      "[CV] C=10.0, gamma=0.01 ..............................................\n",
      "[CV] .................. C=10.0, gamma=0.01, score=0.758, total=   0.3s\n",
      "[CV] C=10.0, gamma=0.01 ..............................................\n"
     ]
    },
    {
     "name": "stdout",
     "output_type": "stream",
     "text": [
      "[CV] .................. C=10.0, gamma=0.01, score=0.813, total=   0.3s\n",
      "[CV] C=10.0, gamma=0.01 ..............................................\n",
      "[CV] .................. C=10.0, gamma=0.01, score=0.828, total=   0.3s\n",
      "[CV] C=10.0, gamma=0.1 ...............................................\n",
      "[CV] ................... C=10.0, gamma=0.1, score=0.106, total=   0.4s\n",
      "[CV] C=10.0, gamma=0.1 ...............................................\n",
      "[CV] ................... C=10.0, gamma=0.1, score=0.107, total=   0.3s\n",
      "[CV] C=10.0, gamma=0.1 ...............................................\n",
      "[CV] ................... C=10.0, gamma=0.1, score=0.108, total=   0.3s\n",
      "[CV] C=10.0, gamma=0.1 ...............................................\n",
      "[CV] ................... C=10.0, gamma=0.1, score=0.108, total=   0.3s\n",
      "[CV] C=10.0, gamma=0.1 ...............................................\n",
      "[CV] ................... C=10.0, gamma=0.1, score=0.105, total=   0.3s\n",
      "[CV] C=100.0, gamma=1e-05 ............................................\n",
      "[CV] ................ C=100.0, gamma=1e-05, score=0.989, total=   0.0s\n",
      "[CV] C=100.0, gamma=1e-05 ............................................\n",
      "[CV] ................ C=100.0, gamma=1e-05, score=0.974, total=   0.0s\n",
      "[CV] C=100.0, gamma=1e-05 ............................................\n",
      "[CV] ................ C=100.0, gamma=1e-05, score=0.974, total=   0.0s\n",
      "[CV] C=100.0, gamma=1e-05 ............................................\n",
      "[CV] ................ C=100.0, gamma=1e-05, score=0.985, total=   0.0s\n",
      "[CV] C=100.0, gamma=1e-05 ............................................\n",
      "[CV] ................ C=100.0, gamma=1e-05, score=0.989, total=   0.0s\n",
      "[CV] C=100.0, gamma=0.0001 ...........................................\n",
      "[CV] ............... C=100.0, gamma=0.0001, score=0.985, total=   0.0s\n",
      "[CV] C=100.0, gamma=0.0001 ...........................................\n",
      "[CV] ............... C=100.0, gamma=0.0001, score=0.985, total=   0.0s\n",
      "[CV] C=100.0, gamma=0.0001 ...........................................\n",
      "[CV] ............... C=100.0, gamma=0.0001, score=0.974, total=   0.0s\n",
      "[CV] C=100.0, gamma=0.0001 ...........................................\n",
      "[CV] ............... C=100.0, gamma=0.0001, score=0.981, total=   0.0s\n",
      "[CV] C=100.0, gamma=0.0001 ...........................................\n",
      "[CV] ............... C=100.0, gamma=0.0001, score=0.985, total=   0.0s\n",
      "[CV] C=100.0, gamma=0.001 ............................................\n",
      "[CV] ................ C=100.0, gamma=0.001, score=0.993, total=   0.1s\n",
      "[CV] C=100.0, gamma=0.001 ............................................\n",
      "[CV] ................ C=100.0, gamma=0.001, score=0.985, total=   0.1s\n",
      "[CV] C=100.0, gamma=0.001 ............................................\n",
      "[CV] ................ C=100.0, gamma=0.001, score=0.981, total=   0.1s\n",
      "[CV] C=100.0, gamma=0.001 ............................................\n",
      "[CV] ................ C=100.0, gamma=0.001, score=0.989, total=   0.1s\n",
      "[CV] C=100.0, gamma=0.001 ............................................\n",
      "[CV] ................ C=100.0, gamma=0.001, score=0.989, total=   0.1s\n",
      "[CV] C=100.0, gamma=0.01 .............................................\n",
      "[CV] ................. C=100.0, gamma=0.01, score=0.777, total=   0.3s\n",
      "[CV] C=100.0, gamma=0.01 .............................................\n",
      "[CV] ................. C=100.0, gamma=0.01, score=0.822, total=   0.3s\n",
      "[CV] C=100.0, gamma=0.01 .............................................\n",
      "[CV] ................. C=100.0, gamma=0.01, score=0.758, total=   0.3s\n",
      "[CV] C=100.0, gamma=0.01 .............................................\n",
      "[CV] ................. C=100.0, gamma=0.01, score=0.813, total=   0.2s\n",
      "[CV] C=100.0, gamma=0.01 .............................................\n",
      "[CV] ................. C=100.0, gamma=0.01, score=0.828, total=   0.2s\n",
      "[CV] C=100.0, gamma=0.1 ..............................................\n",
      "[CV] .................. C=100.0, gamma=0.1, score=0.106, total=   0.3s\n",
      "[CV] C=100.0, gamma=0.1 ..............................................\n",
      "[CV] .................. C=100.0, gamma=0.1, score=0.107, total=   0.3s\n",
      "[CV] C=100.0, gamma=0.1 ..............................................\n",
      "[CV] .................. C=100.0, gamma=0.1, score=0.108, total=   0.3s\n",
      "[CV] C=100.0, gamma=0.1 ..............................................\n",
      "[CV] .................. C=100.0, gamma=0.1, score=0.108, total=   0.3s\n",
      "[CV] C=100.0, gamma=0.1 ..............................................\n",
      "[CV] .................. C=100.0, gamma=0.1, score=0.105, total=   0.3s\n"
     ]
    },
    {
     "name": "stderr",
     "output_type": "stream",
     "text": [
      "[Parallel(n_jobs=1)]: Done 150 out of 150 | elapsed:   29.8s finished\n"
     ]
    },
    {
     "data": {
      "text/plain": [
       "GridSearchCV(cv=5, error_score='raise-deprecating',\n",
       "             estimator=SVC(C=1.0, cache_size=200, class_weight=None, coef0=0.0,\n",
       "                           decision_function_shape='ovr', degree=3,\n",
       "                           gamma='auto_deprecated', kernel='rbf', max_iter=-1,\n",
       "                           probability=False, random_state=None, shrinking=True,\n",
       "                           tol=0.001, verbose=False),\n",
       "             iid='warn', n_jobs=None,\n",
       "             param_grid={'C': array([  0.001,   0.01 ,   0.1  ,   1.   ,  10.   , 100.   ]),\n",
       "                         'gamma': array([0.00001, 0.0001 , 0.001  , 0.01   , 0.1    ])},\n",
       "             pre_dispatch='2*n_jobs', refit=True, return_train_score=False,\n",
       "             scoring=None, verbose=3)"
      ]
     },
     "execution_count": 19,
     "metadata": {},
     "output_type": "execute_result"
    }
   ],
   "source": [
    "grid_search.fit(X_train, y_train)"
   ]
  },
  {
   "cell_type": "code",
   "execution_count": 20,
   "metadata": {},
   "outputs": [
    {
     "data": {
      "text/plain": [
       "array([4, 9, 7, 6, 2, 5, 9, 8, 7, 7, 5, 1, 4, 5, 2, 4, 2, 2, 1, 0, 0, 1,\n",
       "       5, 9, 4, 6, 8, 2, 5, 5, 1, 1, 0, 5, 6, 9, 6, 7, 8, 5, 4, 1, 1, 0,\n",
       "       2, 1, 4, 1, 9, 5, 3, 9, 0, 7, 1, 8, 9, 6, 5, 9, 7, 6, 4, 2, 6, 5,\n",
       "       7, 0, 4, 4, 3, 1, 6, 4, 7, 6, 8, 3, 8, 2, 9, 6, 1, 9, 1, 7, 7, 7,\n",
       "       1, 4, 1, 5, 7, 0, 1, 8, 2, 8, 6, 2, 3, 4, 1, 9, 0, 7, 3, 6, 6, 1,\n",
       "       0, 3, 7, 3, 2, 8, 4, 0, 2, 4, 9, 0, 0, 5, 5, 8, 1, 2, 2, 5, 3, 4,\n",
       "       4, 4, 3, 4, 1, 4, 1, 6, 3, 8, 4, 2, 4, 5, 7, 5, 6, 2, 1, 6, 8, 6,\n",
       "       8, 9, 3, 8, 2, 9, 5, 6, 8, 4, 3, 2, 1, 1, 1, 6, 8, 2, 9, 2, 5, 0,\n",
       "       0, 4, 1, 2, 9, 1, 0, 8, 3, 9, 7, 6, 5, 5, 2, 9, 6, 5, 0, 4, 2, 1,\n",
       "       5, 6, 5, 7, 1, 0, 5, 9, 7, 3, 7, 0, 3, 1, 0, 3, 2, 1, 8, 1, 0, 0,\n",
       "       7, 3, 9, 0, 2, 7, 1, 6, 5, 2, 1, 0, 1, 5, 5, 2, 9, 0, 7, 4, 6, 0,\n",
       "       8, 5, 9, 7, 0, 8, 9, 8, 0, 2, 2, 3, 2, 3, 2, 2, 5, 2, 7, 6, 4, 3,\n",
       "       5, 8, 8, 3, 6, 6, 1, 2, 8, 1, 0, 1, 1, 4, 9, 5, 6, 5, 6, 1, 3, 8,\n",
       "       3, 1, 5, 1, 1, 6, 1, 1, 5, 0, 6, 3, 8, 7, 9, 7, 3, 8, 2, 8, 0, 2,\n",
       "       5, 1, 9, 8, 6, 6, 5, 8, 8, 9, 3, 4, 7, 5, 5, 8, 0, 0, 5, 9, 3, 8,\n",
       "       1, 7, 9, 8, 8, 2, 1, 6, 4, 0, 8, 4, 9, 8, 7, 8, 5, 1, 2, 5, 6, 9,\n",
       "       2, 5, 0, 7, 4, 6, 5, 0, 9, 9, 0, 3, 2, 2, 4, 6, 7, 9, 7, 8, 4, 6,\n",
       "       1, 6, 7, 2, 9, 4, 7, 5, 8, 3, 3, 9, 7, 1, 6, 1, 9, 3, 1, 2, 5, 3,\n",
       "       5, 8, 0, 2, 1, 6, 3, 4, 0, 3, 1, 5, 8, 1, 1, 3, 5, 0, 7, 1, 0, 2,\n",
       "       2, 3, 3, 1, 1, 5, 2, 4, 1, 8, 7, 6, 9, 5, 7, 4, 3, 6, 8, 7, 0, 3,\n",
       "       9, 7, 7, 3, 9, 6, 3, 8, 0, 9])"
      ]
     },
     "execution_count": 20,
     "metadata": {},
     "output_type": "execute_result"
    }
   ],
   "source": [
    "grid_search.predict(X_test)"
   ]
  },
  {
   "cell_type": "code",
   "execution_count": 21,
   "metadata": {},
   "outputs": [
    {
     "data": {
      "text/plain": [
       "0.9888888888888889"
      ]
     },
     "execution_count": 21,
     "metadata": {},
     "output_type": "execute_result"
    }
   ],
   "source": [
    "grid_search.score(X_test, y_test)"
   ]
  },
  {
   "cell_type": "code",
   "execution_count": 22,
   "metadata": {},
   "outputs": [
    {
     "data": {
      "text/plain": [
       "{'C': 1.0, 'gamma': 0.001}"
      ]
     },
     "execution_count": 22,
     "metadata": {},
     "output_type": "execute_result"
    }
   ],
   "source": [
    "grid_search.best_params_"
   ]
  },
  {
   "cell_type": "code",
   "execution_count": 23,
   "metadata": {},
   "outputs": [
    {
     "data": {
      "text/plain": [
       "0.9873793615441723"
      ]
     },
     "execution_count": 23,
     "metadata": {},
     "output_type": "execute_result"
    }
   ],
   "source": [
    "grid_search.best_score_"
   ]
  },
  {
   "cell_type": "code",
   "execution_count": 24,
   "metadata": {},
   "outputs": [
    {
     "data": {
      "text/plain": [
       "SVC(C=1.0, cache_size=200, class_weight=None, coef0=0.0,\n",
       "    decision_function_shape='ovr', degree=3, gamma=0.001, kernel='rbf',\n",
       "    max_iter=-1, probability=False, random_state=None, shrinking=True,\n",
       "    tol=0.001, verbose=False)"
      ]
     },
     "execution_count": 24,
     "metadata": {},
     "output_type": "execute_result"
    }
   ],
   "source": [
    "grid_search.best_estimator_"
   ]
  },
  {
   "cell_type": "code",
   "execution_count": 25,
   "metadata": {},
   "outputs": [
    {
     "data": {
      "image/png": "[encoded data removed]",
      "text/plain": [
       "<Figure size 288x345.6 with 2 Axes>"
      ]
     },
     "metadata": {
      "needs_background": "light"
     },
     "output_type": "display_data"
    }
   ],
   "source": [
    "# We extract just the scores\n",
    "\n",
    "scores = grid_search.cv_results_['mean_test_score']\n",
    "scores = np.array(scores).reshape(6, 5)\n",
    "\n",
    "plt.matshow(scores)\n",
    "plt.xlabel('gamma')\n",
    "plt.ylabel('C')\n",
    "plt.colorbar()\n",
    "plt.xticks(np.arange(5), param_grid['gamma'])\n",
    "plt.yticks(np.arange(6), param_grid['C']);"
   ]
  }
 ],
 "metadata": {
  "anaconda-cloud": {},
  "kernelspec": {
   "display_name": "Python 3",
   "language": "python",
   "name": "python3"
  },
  "language_info": {
   "codemirror_mode": {
    "name": "ipython",
    "version": 3
   },
   "file_extension": ".py",
   "mimetype": "text/x-python",
   "name": "python",
   "nbconvert_exporter": "python",
   "pygments_lexer": "ipython3",
   "version": "3.7.3"
  }
 },
 "nbformat": 4,
 "nbformat_minor": 2
}
